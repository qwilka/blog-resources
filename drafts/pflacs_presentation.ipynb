{
 "cells": [
  {
   "cell_type": "markdown",
   "metadata": {
    "slideshow": {
     "slide_type": "slide"
    }
   },
   "source": [
    "<h2 align=\"center\">pflacs: Faster loadcases and parameter studies</h2> \n",
    "<h4 align=\"center\">enhancing the engineering design process with Python</h4> \n",
    "<h3 align=\"center\">Stephen McEntee</h3>  \n",
    "<h3 align=\"center\">PyConIE 2019-10-12</h3>\n"
   ]
  },
  {
   "cell_type": "markdown",
   "metadata": {
    "slideshow": {
     "slide_type": "slide"
    }
   },
   "source": [
    "### about me ...\n",
    "\n",
    "- chartered mechanical engineer\n",
    "- subsea / pipeline engineer in oil & gas industry since 1997\n",
    "- Python programming since ~2003\n",
    "- my own startup ``Qwilka``\n",
    "    - developing ``Visinum`` data management and analytics platform \n",
    "    - unstructured engineering data from engineering survey\n",
    "    - lidar, sonar, video, images, etc.\n",
    "- website: https://qwilka.github.io/\n",
    "- Github: https://github.com/qwilka\n",
    "- Linkedin: https://www.linkedin.com/in/stephen-mcentee-51a187121\n",
    "\n"
   ]
  },
  {
   "cell_type": "markdown",
   "metadata": {
    "slideshow": {
     "slide_type": "subslide"
    }
   },
   "source": [
    "![2019-09-30_Visinum_screenshot3.jpg](img/2019-09-30_Visinum_screenshot_3.jpg)"
   ]
  },
  {
   "cell_type": "markdown",
   "metadata": {
    "slideshow": {
     "slide_type": "subslide"
    }
   },
   "source": [
    "![2019-09-30_Visinum_screenshot1.jpg](img/2019-09-30_Visinum_screenshot1.jpg)"
   ]
  },
  {
   "cell_type": "markdown",
   "metadata": {
    "slideshow": {
     "slide_type": "slide"
    }
   },
   "source": [
    "## Scope\n",
    "\n",
    "1. Motivation: automate engineering computations\n",
    "1. Engineering: civil/mechanical/stuctural\n",
    "1. Using Python to enhance the engineering design process\n",
    "1. Introducing Python modules (open source, MIT licence):\n",
    "    - ``pflacs`` faster load-cases and paramter studies\n",
    "    - ``vntree`` tree data structure\n",
    "    - ``PDover2t`` library of functions for pipelines design and analysis \n"
   ]
  },
  {
   "cell_type": "markdown",
   "metadata": {
    "slideshow": {
     "slide_type": "subslide"
    }
   },
   "source": [
    "### The ``Barlow`` formula for hoop stress in a pressurised cylinder\n",
    "\n",
    "$$\\sigma_H = \\frac{PD}{2t}$$  \n",
    "\n",
    "<img src=\"img/hoop_stress_in_pipe_Elliotis_3.png\" alt=\"hoop stress\" title=\"Title text\" style=\"display: inline-block; margin: 0\" /> \n",
    "&nbsp;&nbsp;&nbsp;<small>image: \n",
    "<a href=\"https://creativecommons.org/licenses/by/3.0/\">CC BY 3.0</a> 2013 <a href=\"https://www.researchgate.net/publication/290835187_A_Finite_Element_Approach_for_the_Elastic-Plastic_Behavior_of_a_Steel_Pipe_Used_to_Transport_Natural_Gas\">Miltiades C. Elliotis</a>  \n",
    "</small>"
   ]
  },
  {
   "cell_type": "markdown",
   "metadata": {
    "slideshow": {
     "slide_type": "fragment"
    }
   },
   "source": [
    "<h4 align=\"center\">\"pipeline engineering is nothing but PD/2t\"</h4>"
   ]
  },
  {
   "cell_type": "markdown",
   "metadata": {
    "slideshow": {
     "slide_type": "subslide"
    }
   },
   "source": [
    "### Typical engineering design process (in brief)\n",
    "\n",
    "- Establish the `Design Basis`\n",
    "  - design parameters\n",
    "  - constraints & assumptions\n",
    "  - specify design codes and standards\n",
    "- Plan analyses in hierarchical structure:\n",
    "  - base-case\n",
    "    - load cases\n",
    "      - parameter studies\n",
    "- Analyse in accordance with prescibed Design Code\n",
    "  - Levels of analysis: 1, 2 and 3\n",
    "- Final goal: compliance with design code\n",
    "  - regulatory driven, not an optimisation process"
   ]
  },
  {
   "cell_type": "markdown",
   "metadata": {
    "slideshow": {
     "slide_type": "subslide"
    }
   },
   "source": [
    "## engineering design process workflow\n",
    "\n",
    "- Iterative process (frequent re-work)\n",
    "- Typical software tool chain:\n",
    "  - spreadsheet (level 1 analysis)\n",
    "  - computational worksheet (level 1 analysis)\n",
    "  - finite element program (level 3 analysis)\n",
    "  - word processor for reporting\n",
    "- PC on every desk\n",
    "  - GUI point-n-click environment\n",
    "  - main productivity tool: copy-n-paste\n",
    "- Manual paper-based workflows re-implemented on PCs"
   ]
  },
  {
   "cell_type": "markdown",
   "metadata": {
    "slideshow": {
     "slide_type": "slide"
    }
   },
   "source": [
    "## Using Python for engineering computation: a simple example\n",
    "\n",
    "Calculating water pressure:  $P = \\rho \\cdot g \\cdot h $\n",
    "\n",
    "\n",
    "$\\rho$ is water density, &nbsp;&nbsp; $g$ is gravitational acceleration, &nbsp;&nbsp; $h$ is water depth (\"head\")"
   ]
  },
  {
   "cell_type": "markdown",
   "metadata": {
    "slideshow": {
     "slide_type": "subslide"
    }
   },
   "source": [
    "## Python script\n",
    "\n",
    "water_pressure_script.py\n",
    "\n",
    "***\n",
    "\n",
    "```python\n",
    "rho = 1025\n",
    "g = 9.81\n",
    "h = 10\n",
    "pressure = rho * g * h\n",
    "print(f\"Inputs:\\n\\tdensity = {rho}\")\n",
    "print(f\"\\tg = {g}\")\n",
    "print(f\"\\tdepth = {h}\")\n",
    "print(f\"Output:\\n\\twater pressure = {pressure}\")\n",
    "```"
   ]
  },
  {
   "cell_type": "code",
   "execution_count": 1,
   "metadata": {
    "slideshow": {
     "slide_type": "subslide"
    }
   },
   "outputs": [
    {
     "name": "stdout",
     "output_type": "stream",
     "text": [
      "Inputs:\n",
      "\tdensity = 1025\n",
      "\tg = 9.81\n",
      "\tdepth = 10\n",
      "Output:\n",
      "\twater pressure = 100552.5\n"
     ]
    }
   ],
   "source": [
    "%run water_pressure_script.py"
   ]
  },
  {
   "cell_type": "markdown",
   "metadata": {
    "slideshow": {
     "slide_type": "subslide"
    }
   },
   "source": [
    "## Python function\n",
    "\n",
    "water_pressure_function.py\n",
    "\n",
    "***\n",
    "```python\n",
    "def water_pressure(h, rho, g=9.81):\n",
    "\t\"\"\"Calculate hydrostatic water pressure.\n",
    "\t\n",
    "\t:param h: water depth or head\n",
    "\t:param rho: water density\n",
    "\t:param g: gravitational acceleration\n",
    "    :returns: hydrostatic water pressure\n",
    "\t\"\"\"\n",
    "\treturn rho * g * h\n",
    "\n",
    "```"
   ]
  },
  {
   "cell_type": "code",
   "execution_count": 2,
   "metadata": {
    "slideshow": {
     "slide_type": "subslide"
    }
   },
   "outputs": [
    {
     "name": "stdout",
     "output_type": "stream",
     "text": [
      "Help on function water_pressure in module water_pressure_function:\n",
      "\n",
      "water_pressure(h, rho, g=9.81)\n",
      "    Calculate hydrostatic water pressure.\n",
      "        \n",
      "    :param h: water depth or head\n",
      "    :param rho: water density\n",
      "    :param g: gravitational acceleration\n",
      "    :returns: hydrostatic water pressure\n",
      "\n"
     ]
    }
   ],
   "source": [
    "from water_pressure_function import water_pressure\n",
    "help(water_pressure)"
   ]
  },
  {
   "cell_type": "code",
   "execution_count": 3,
   "metadata": {
    "scrolled": true,
    "slideshow": {
     "slide_type": "fragment"
    }
   },
   "outputs": [
    {
     "name": "stdout",
     "output_type": "stream",
     "text": [
      "water pressure is 100552.5 at 10.0 depth.\n",
      "water pressure is 905330.2499999999 at 90 depth.\n"
     ]
    }
   ],
   "source": [
    "depth=10.0; density=1025.0\n",
    "pressure = water_pressure(depth, density)\n",
    "print(f\"water pressure is {pressure} at {depth} depth.\")\n",
    "print(f\"water pressure is {water_pressure(90, 1027.5, 9.79)} at 90 depth.\")"
   ]
  },
  {
   "cell_type": "code",
   "execution_count": 4,
   "metadata": {
    "slideshow": {
     "slide_type": "subslide"
    }
   },
   "outputs": [],
   "source": [
    "import numpy\n",
    "depth = numpy.arange(0, 101, 10)\n",
    "pressure = water_pressure(depth, 1025) * 10**-5\n",
    "import matplotlib.pyplot as plt\n",
    "plt.plot(depth, pressure, \"bo-\")\n",
    "plt.xlabel('water depth (m)'); plt.ylabel('pressure (bar)');"
   ]
  },
  {
   "cell_type": "markdown",
   "metadata": {
    "slideshow": {
     "slide_type": "subslide"
    }
   },
   "source": [
    "## Python class\n",
    "\n",
    "water_pressure_class.py\n",
    "\n",
    "***\n",
    "```python\n",
    "class Ocean:\n",
    "\n",
    "    def __init__(self, name, h, rho):\n",
    "        self.name = name\n",
    "        self.h = h\n",
    "        self.rho = rho\n",
    "\n",
    "    def water_pressure(self, h=None, rho=None, verbose=True):\n",
    "        \"\"\"Calculate hydrostatic water pressure.\n",
    "        \n",
    "        Note: gravitational acceleration is assumed to be 9.81 m/s2\n",
    "\n",
    "        :param h: water depth or head\n",
    "        :param rho: water density :math:`(\\rho)`\n",
    "        :param verbose: print result message\n",
    "        :returns: hydrostatic water pressure       \n",
    "        \"\"\"\n",
    "        _h = self.h if h is None else h\n",
    "        _rho = self.rho if rho is None else rho\n",
    "        g=9.81\n",
    "        p = _rho * g * _h\n",
    "        if verbose: print(f\"{self.name} pressure is {p} at {_h} depth.\")\n",
    "        return  p\n",
    "```"
   ]
  },
  {
   "cell_type": "code",
   "execution_count": 5,
   "metadata": {
    "slideshow": {
     "slide_type": "subslide"
    }
   },
   "outputs": [
    {
     "name": "stdout",
     "output_type": "stream",
     "text": [
      "Baltic pressure is 544945.5 at 55.0 depth.\n",
      "Baltic pressure is 485496.9 at 49.0 depth.\n",
      "Baltic pressure is 98590.50000000001 at 10.0 depth.\n",
      "Irish Sea pressure is 804420.0 at 80.0 depth.\n"
     ]
    }
   ],
   "source": [
    "from water_pressure_class import Ocean\n",
    "baltic = Ocean(\"Baltic\", 55.0, 1010.0)\n",
    "isea = Ocean(\"Irish Sea\", 80.0, 1025.0)\n",
    "baltic.water_pressure()\n",
    "baltic.water_pressure(49.0)\n",
    "baltic.water_pressure(10.0, rho=1005.0)\n",
    "isea.water_pressure();"
   ]
  },
  {
   "cell_type": "markdown",
   "metadata": {
    "slideshow": {
     "slide_type": "slide"
    }
   },
   "source": [
    "## Objectives\n",
    "\n",
    "- flexibility\n",
    "  - libraries of plain functions for computations\n",
    "  - maintains the widest range of possibilities\n",
    "- convenience\n",
    "  - object-orientated framework\n",
    "  - preferably light-touch and unoptionated\n",
    "- ability to utilise external libraries\n",
    "- hierarchical\n",
    "- scalable"
   ]
  },
  {
   "cell_type": "markdown",
   "metadata": {
    "slideshow": {
     "slide_type": "subslide"
    }
   },
   "source": [
    "### How to have the best of both worlds: functions and classes?\n",
    "\n",
    "- Python is dynamic and flexible"
   ]
  },
  {
   "cell_type": "code",
   "execution_count": 6,
   "metadata": {
    "slideshow": {
     "slide_type": "fragment"
    }
   },
   "outputs": [],
   "source": [
    "class Pipeline:\n",
    "    def __init__(self, name, D, t):\n",
    "        self.name = name    \n",
    "        self.D = D   # pipeline diameter\n",
    "        self.t = t   # pipeline wall thickness\n",
    "\n",
    "# 16inch diameter pipeline with 1/2 inch wall thickness\n",
    "# using consistent SI units (metre, newton, Pa, etc...)\n",
    "pl_16inch = Pipeline('16\" pipeline', 16 * 25.4/1000, 0.5 * 25.4/1000) "
   ]
  },
  {
   "cell_type": "code",
   "execution_count": 7,
   "metadata": {
    "slideshow": {
     "slide_type": "subslide"
    }
   },
   "outputs": [],
   "source": [
    "def hoop_stress(pipeline_object, P, D=None, t=None):\n",
    "    _D = pipeline_object.D if D is None else D\n",
    "    _t = pipeline_object.t if t is None else t\n",
    "    return P * _D / 2 / _t\n",
    "\n",
    "# patching hoop stress function into Pipeline class\n",
    "Pipeline.hoop_stress = hoop_stress"
   ]
  },
  {
   "cell_type": "code",
   "execution_count": 8,
   "metadata": {
    "slideshow": {
     "slide_type": "fragment"
    }
   },
   "outputs": [
    {
     "name": "stdout",
     "output_type": "stream",
     "text": [
      "16\" pipeline hoop stress is 160.0 MPa at pressure 100.00000000000001 bar\n"
     ]
    }
   ],
   "source": [
    "# calculate hoop stress at 100 bar pressure\n",
    "pres = 100 * 10**5  # convert bar into Pa\n",
    "sigma_H = pl_16inch.hoop_stress(pres) \n",
    "\n",
    "print(f\"{pl_16inch.name} hoop stress is {sigma_H * 10**-6} MPa at pressure {pres * 10**-5} bar\")"
   ]
  },
  {
   "cell_type": "markdown",
   "metadata": {
    "slideshow": {
     "slide_type": "subslide"
    }
   },
   "source": [
    "### ``Python`` is introspective\n",
    "\n",
    "- [``inspect``](https://docs.python.org/3/library/inspect.html) module - extract information from live objects\n",
    "- ``inspect.signature`` get the call signature from a _callable_ object\n",
    "- for reference, see also ``inspect.getargspec`` (depreciated)\n",
    "  - \"get the names and default values of a Python function’s parameters\"\n",
    "- and also ``inspect.getfullargspec``\n",
    "  - standard interface for code migrating from the legacy ``inspect.getargspec``\n",
    "  - based on ``inspect.signature``"
   ]
  },
  {
   "cell_type": "markdown",
   "metadata": {
    "slideshow": {
     "slide_type": "subslide"
    }
   },
   "source": [
    "```python\n",
    ">>> import inspect, statistics\n",
    ">>> inspect.signature(statistics.stdev)\n",
    "<Signature (data, xbar=None)>\n",
    ">>> inspect.getsource(statistics.stdev)\n",
    "'def stdev(data, xbar=None):\\n    \"\"\"Return the square root of the sample variance.\\n\\n    See ``variance`` for arguments and other details.\\n\\n    >>> stdev([1.5, 2.5, 2.5, 2.75, 3.25, 4.75])\\n    1.0810874155219827\\n\\n    \"\"\"\\n    var = variance(data, xbar)\\n    try:\\n        return var.sqrt()\\n    except AttributeError:\\n        return math.sqrt(var)\\n'\n",
    "```"
   ]
  },
  {
   "cell_type": "markdown",
   "metadata": {
    "slideshow": {
     "slide_type": "fragment"
    }
   },
   "source": [
    "```python\n",
    ">>> help(statistics.stdev)\n",
    "\n",
    "Help on function stdev in module statistics:\n",
    "\n",
    "stdev(data, xbar=None)\n",
    "    Return the square root of the sample variance.\n",
    "```"
   ]
  },
  {
   "cell_type": "markdown",
   "metadata": {
    "slideshow": {
     "slide_type": "subslide"
    }
   },
   "source": [
    "```python\n",
    "import math\n",
    "inspect.signature(math.sqrt)\n",
    "Traceback (most recent call last):\n",
    " ( ...  trace details suppressed ... )\n",
    "ValueError: no signature found for builtin <built-in function sqrt>\n",
    "```"
   ]
  },
  {
   "cell_type": "markdown",
   "metadata": {
    "slideshow": {
     "slide_type": "fragment"
    }
   },
   "source": [
    "```python\n",
    ">>> inspect.getsource(math.sqrt)\n",
    "Traceback (most recent call last):\n",
    " ( ...  trace details suppressed ... )\n",
    "TypeError: <built-in function sqrt> is not a module, class, method, function, traceback, frame, or code object\n",
    "\n",
    "```"
   ]
  },
  {
   "cell_type": "markdown",
   "metadata": {
    "slideshow": {
     "slide_type": "fragment"
    }
   },
   "source": [
    "https://docs.python.org/3/library/math.html\n",
    "\n",
    "```\n",
    "CPython implementation detail: The math module consists mostly of \n",
    "thin wrappers around the platform C math library functions.\n",
    "```"
   ]
  },
  {
   "cell_type": "markdown",
   "metadata": {
    "slideshow": {
     "slide_type": "subslide"
    }
   },
   "source": [
    "```python\n",
    ">>> help(math.sqrt)\n",
    "Help on built-in function sqrt in module math:\n",
    "\n",
    "sqrt(...)\n",
    "    sqrt(x)\n",
    "    \n",
    "    Return the square root of x.\n",
    "(END)\n",
    "\n",
    ">>> math.sqrt.__doc__\n",
    "'sqrt(x)\\n\\nReturn the square root of x.'\n",
    "```"
   ]
  },
  {
   "cell_type": "markdown",
   "metadata": {
    "slideshow": {
     "slide_type": "fragment"
    }
   },
   "source": [
    "```python\n",
    ">>> platform.python_version\n",
    "'3.6.9'\n",
    "```"
   ]
  },
  {
   "cell_type": "markdown",
   "metadata": {
    "slideshow": {
     "slide_type": "subslide"
    }
   },
   "source": [
    "```python\n",
    ">>> platform.python_version()\n",
    "'3.7.3'\n",
    "```"
   ]
  },
  {
   "cell_type": "markdown",
   "metadata": {
    "slideshow": {
     "slide_type": "fragment"
    }
   },
   "source": [
    "```python\n",
    ">>> import inspect, math\n",
    ">>> inspect.signature(math.sqrt)\n",
    "<Signature (x, /)>\n",
    "```"
   ]
  },
  {
   "cell_type": "markdown",
   "metadata": {
    "slideshow": {
     "slide_type": "fragment"
    }
   },
   "source": [
    "```python\n",
    ">>> help(math.sqrt)\n",
    "\n",
    "Help on built-in function sqrt in module math:\n",
    "\n",
    "sqrt(x, /)\n",
    "    Return the square root of x.\n",
    "(END)\n",
    "```"
   ]
  },
  {
   "cell_type": "markdown",
   "metadata": {
    "slideshow": {
     "slide_type": "fragment"
    }
   },
   "source": [
    "```python\n",
    ">>> inspect.getsource(math.sqrt)\n",
    "Traceback (most recent call last):\n",
    " ( ...  trace details suppressed ... )\n",
    "TypeError: module, class, method, function, traceback, frame, or code object was expected, got builtin_function_or_method\n",
    "\n",
    "```"
   ]
  },
  {
   "cell_type": "markdown",
   "metadata": {
    "slideshow": {
     "slide_type": "slide"
    }
   },
   "source": [
    "##  Introducing Python module ``pflacs`` \n",
    "\n",
    "- ``pflacs`` uses ``inspect.signature`` to incorporate unmodified Python functions into a light-weight object orientated framework.\n",
    "- https://github.com/qwilka/pflacs\n",
    "- https://pypi.org/project/pflacs/\n",
    "- pip install pflacs "
   ]
  },
  {
   "cell_type": "markdown",
   "metadata": {
    "slideshow": {
     "slide_type": "fragment"
    }
   },
   "source": [
    "## Basic usage of `pflacs`"
   ]
  },
  {
   "cell_type": "code",
   "execution_count": 9,
   "metadata": {
    "slideshow": {
     "slide_type": "-"
    }
   },
   "outputs": [
    {
     "name": "stdout",
     "output_type": "stream",
     "text": [
      "basecase.a=10 basecase.b=5\n"
     ]
    }
   ],
   "source": [
    "import pflacs\n",
    "\n",
    "basecase = pflacs.Premise(\"Base case\", \n",
    "                      parameters={\"a\":10, \"b\":5} )\n",
    "\n",
    "print(f\"basecase.a={basecase.a} basecase.b={basecase.b}\")"
   ]
  },
  {
   "cell_type": "markdown",
   "metadata": {
    "slideshow": {
     "slide_type": "subslide"
    }
   },
   "source": [
    "#### `pflacs.Premise.plugin_func` used  to 'plugin' or patch a function"
   ]
  },
  {
   "cell_type": "code",
   "execution_count": 10,
   "metadata": {
    "slideshow": {
     "slide_type": "-"
    }
   },
   "outputs": [],
   "source": [
    "def add_nums(a, b, c=0):\n",
    "    \"\"\"Function adds 2 or 3 numbers, and returns the sum.\"\"\"\n",
    "    return a + b + c"
   ]
  },
  {
   "cell_type": "code",
   "execution_count": 11,
   "metadata": {
    "slideshow": {
     "slide_type": "-"
    }
   },
   "outputs": [
    {
     "data": {
      "text/plain": [
       "<pflacs.pflacs.PflacsFunc at 0x7efbd3e54748>"
      ]
     },
     "execution_count": 11,
     "metadata": {},
     "output_type": "execute_result"
    }
   ],
   "source": [
    "basecase.plugin_func(add_nums)\n",
    "basecase.add_nums"
   ]
  },
  {
   "cell_type": "code",
   "execution_count": 12,
   "metadata": {
    "slideshow": {
     "slide_type": "fragment"
    }
   },
   "outputs": [
    {
     "data": {
      "text/plain": [
       "<pflacs.pflacs.PflacsFunc at 0x7efbd3e54748>"
      ]
     },
     "execution_count": 12,
     "metadata": {},
     "output_type": "execute_result"
    }
   ],
   "source": [
    "pflacs.Premise.add_nums"
   ]
  },
  {
   "cell_type": "code",
   "execution_count": 13,
   "metadata": {
    "slideshow": {
     "slide_type": "fragment"
    }
   },
   "outputs": [
    {
     "data": {
      "text/plain": [
       "False"
      ]
     },
     "execution_count": 13,
     "metadata": {},
     "output_type": "execute_result"
    }
   ],
   "source": [
    "basecase.add_nums is add_nums"
   ]
  },
  {
   "cell_type": "code",
   "execution_count": 14,
   "metadata": {
    "slideshow": {
     "slide_type": "subslide"
    }
   },
   "outputs": [
    {
     "name": "stdout",
     "output_type": "stream",
     "text": [
      "Help on PflacsFunc in module __main__:\n",
      "\n",
      "add_nums(a, b, c=0)\n",
      "    Function adds 2 or 3 numbers, and returns the sum.\n",
      "\n"
     ]
    }
   ],
   "source": [
    "help(basecase.add_nums)"
   ]
  },
  {
   "cell_type": "code",
   "execution_count": 15,
   "metadata": {
    "slideshow": {
     "slide_type": "subslide"
    }
   },
   "outputs": [
    {
     "data": {
      "text/plain": [
       "15"
      ]
     },
     "execution_count": 15,
     "metadata": {},
     "output_type": "execute_result"
    }
   ],
   "source": [
    "basecase.add_nums()"
   ]
  },
  {
   "cell_type": "code",
   "execution_count": 16,
   "metadata": {
    "slideshow": {
     "slide_type": "-"
    }
   },
   "outputs": [
    {
     "data": {
      "text/plain": [
       "True"
      ]
     },
     "execution_count": 16,
     "metadata": {},
     "output_type": "execute_result"
    }
   ],
   "source": [
    "basecase.a + basecase.b == basecase.add_nums()"
   ]
  },
  {
   "cell_type": "code",
   "execution_count": 17,
   "metadata": {
    "slideshow": {
     "slide_type": "fragment"
    }
   },
   "outputs": [
    {
     "data": {
      "text/plain": [
       "7"
      ]
     },
     "execution_count": 17,
     "metadata": {},
     "output_type": "execute_result"
    }
   ],
   "source": [
    "basecase.add_nums(b=-3)"
   ]
  },
  {
   "cell_type": "code",
   "execution_count": 18,
   "metadata": {
    "slideshow": {
     "slide_type": "-"
    }
   },
   "outputs": [
    {
     "data": {
      "text/plain": [
       "True"
      ]
     },
     "execution_count": 18,
     "metadata": {},
     "output_type": "execute_result"
    }
   ],
   "source": [
    "basecase.a + (-3) == basecase.add_nums(b=-3)"
   ]
  },
  {
   "cell_type": "code",
   "execution_count": 19,
   "metadata": {
    "slideshow": {
     "slide_type": "fragment"
    }
   },
   "outputs": [
    {
     "data": {
      "text/plain": [
       "5"
      ]
     },
     "execution_count": 19,
     "metadata": {},
     "output_type": "execute_result"
    }
   ],
   "source": [
    "basecase.b"
   ]
  },
  {
   "cell_type": "code",
   "execution_count": 20,
   "metadata": {
    "scrolled": true,
    "slideshow": {
     "slide_type": "subslide"
    }
   },
   "outputs": [
    {
     "data": {
      "text/plain": [
       "6.02"
      ]
     },
     "execution_count": 20,
     "metadata": {},
     "output_type": "execute_result"
    }
   ],
   "source": [
    "basecase.add_nums(5, 4.02, -3)"
   ]
  },
  {
   "cell_type": "code",
   "execution_count": 21,
   "metadata": {
    "slideshow": {
     "slide_type": "-"
    }
   },
   "outputs": [
    {
     "data": {
      "text/plain": [
       "True"
      ]
     },
     "execution_count": 21,
     "metadata": {},
     "output_type": "execute_result"
    }
   ],
   "source": [
    "5 + 4.02 + (-3) == basecase.add_nums(5, 4.02, -3)"
   ]
  },
  {
   "cell_type": "code",
   "execution_count": 22,
   "metadata": {
    "slideshow": {
     "slide_type": "fragment"
    }
   },
   "outputs": [
    {
     "name": "stdout",
     "output_type": "stream",
     "text": [
      "basecase.a=10, basecase.b=5\n"
     ]
    }
   ],
   "source": [
    "print(f\"basecase.a={basecase.a}, basecase.b={basecase.b}\")"
   ]
  },
  {
   "cell_type": "markdown",
   "metadata": {
    "slideshow": {
     "slide_type": "subslide"
    }
   },
   "source": [
    "#### let's plugin another funcion"
   ]
  },
  {
   "cell_type": "code",
   "execution_count": 23,
   "metadata": {
    "slideshow": {
     "slide_type": "-"
    }
   },
   "outputs": [],
   "source": [
    "def sub_nums(x, y, z=0):\n",
    "    \"\"\"Function subtracts 2 or 3 numbers, and returns the result.\"\"\"\n",
    "    return x - y - z"
   ]
  },
  {
   "cell_type": "code",
   "execution_count": 24,
   "metadata": {
    "slideshow": {
     "slide_type": "-"
    }
   },
   "outputs": [
    {
     "data": {
      "text/plain": [
       "True"
      ]
     },
     "execution_count": 24,
     "metadata": {},
     "output_type": "execute_result"
    }
   ],
   "source": [
    "basecase.plugin_func(sub_nums, argmap={\"x\":\"a\", \"y\":\"b\", \"z\":\"c\"} )"
   ]
  },
  {
   "cell_type": "code",
   "execution_count": 25,
   "metadata": {
    "slideshow": {
     "slide_type": "fragment"
    }
   },
   "outputs": [
    {
     "data": {
      "text/plain": [
       "True"
      ]
     },
     "execution_count": 25,
     "metadata": {},
     "output_type": "execute_result"
    }
   ],
   "source": [
    "basecase.add_param(\"c\", 6.5)"
   ]
  },
  {
   "cell_type": "code",
   "execution_count": 26,
   "metadata": {
    "slideshow": {
     "slide_type": "-"
    }
   },
   "outputs": [
    {
     "data": {
      "text/plain": [
       "6.5"
      ]
     },
     "execution_count": 26,
     "metadata": {},
     "output_type": "execute_result"
    }
   ],
   "source": [
    "basecase.c"
   ]
  },
  {
   "cell_type": "code",
   "execution_count": 27,
   "metadata": {
    "slideshow": {
     "slide_type": "subslide"
    }
   },
   "outputs": [
    {
     "data": {
      "text/plain": [
       "-1.5"
      ]
     },
     "execution_count": 27,
     "metadata": {},
     "output_type": "execute_result"
    }
   ],
   "source": [
    "basecase.sub_nums()"
   ]
  },
  {
   "cell_type": "code",
   "execution_count": 28,
   "metadata": {
    "slideshow": {
     "slide_type": "-"
    }
   },
   "outputs": [
    {
     "data": {
      "text/plain": [
       "True"
      ]
     },
     "execution_count": 28,
     "metadata": {},
     "output_type": "execute_result"
    }
   ],
   "source": [
    "basecase.a - basecase.b - basecase.c == basecase.sub_nums()"
   ]
  },
  {
   "cell_type": "markdown",
   "metadata": {
    "slideshow": {
     "slide_type": "subslide"
    }
   },
   "source": [
    "#### `pflacs.Premise` is a tree"
   ]
  },
  {
   "cell_type": "code",
   "execution_count": 29,
   "metadata": {
    "slideshow": {
     "slide_type": "-"
    }
   },
   "outputs": [
    {
     "data": {
      "text/plain": [
       "True"
      ]
     },
     "execution_count": 29,
     "metadata": {},
     "output_type": "execute_result"
    }
   ],
   "source": [
    "import vntree\n",
    "issubclass(pflacs.Premise, vntree.Node)"
   ]
  },
  {
   "cell_type": "markdown",
   "metadata": {
    "slideshow": {
     "slide_type": "fragment"
    }
   },
   "source": [
    "let's make a new loadcase, based on `basecase`"
   ]
  },
  {
   "cell_type": "code",
   "execution_count": 30,
   "metadata": {
    "slideshow": {
     "slide_type": "-"
    }
   },
   "outputs": [
    {
     "data": {
      "text/plain": [
       "'Base case'"
      ]
     },
     "execution_count": 30,
     "metadata": {},
     "output_type": "execute_result"
    }
   ],
   "source": [
    "lc1 = pflacs.Premise(\"Load case 1\", parent=basecase, parameters={\"a\":100})\n",
    "lc1.parent.name"
   ]
  },
  {
   "cell_type": "code",
   "execution_count": 31,
   "metadata": {
    "slideshow": {
     "slide_type": "fragment"
    }
   },
   "outputs": [
    {
     "name": "stdout",
     "output_type": "stream",
     "text": [
      "| Base case\n",
      "+--| Load case 1\n",
      "\n"
     ]
    }
   ],
   "source": [
    "print(basecase.to_texttree())"
   ]
  },
  {
   "cell_type": "code",
   "execution_count": 32,
   "metadata": {
    "slideshow": {
     "slide_type": "subslide"
    }
   },
   "outputs": [
    {
     "data": {
      "text/plain": [
       "111.5"
      ]
     },
     "execution_count": 32,
     "metadata": {},
     "output_type": "execute_result"
    }
   ],
   "source": [
    "lc1.add_nums()"
   ]
  },
  {
   "cell_type": "code",
   "execution_count": 33,
   "metadata": {
    "slideshow": {
     "slide_type": "-"
    }
   },
   "outputs": [
    {
     "data": {
      "text/plain": [
       "True"
      ]
     },
     "execution_count": 33,
     "metadata": {},
     "output_type": "execute_result"
    }
   ],
   "source": [
    "lc1.a + lc1.b + lc1.c == lc1.add_nums()"
   ]
  },
  {
   "cell_type": "code",
   "execution_count": 34,
   "metadata": {
    "slideshow": {
     "slide_type": "fragment"
    }
   },
   "outputs": [
    {
     "name": "stdout",
     "output_type": "stream",
     "text": [
      "lc1.a = 100, basecase.a = 10\n"
     ]
    }
   ],
   "source": [
    "print(f\"lc1.a = {lc1.a}, basecase.a = {basecase.a}\")"
   ]
  },
  {
   "cell_type": "code",
   "execution_count": 35,
   "metadata": {
    "slideshow": {
     "slide_type": "fragment"
    }
   },
   "outputs": [
    {
     "name": "stdout",
     "output_type": "stream",
     "text": [
      "lc1.b = 5, basecase.b = 5\n"
     ]
    }
   ],
   "source": [
    "print(f\"lc1.b = {lc1.b}, basecase.b = {basecase.b}\")"
   ]
  },
  {
   "cell_type": "code",
   "execution_count": 36,
   "metadata": {
    "slideshow": {
     "slide_type": "-"
    }
   },
   "outputs": [
    {
     "data": {
      "text/plain": [
       "True"
      ]
     },
     "execution_count": 36,
     "metadata": {},
     "output_type": "execute_result"
    }
   ],
   "source": [
    "lc1.b is basecase.b"
   ]
  },
  {
   "cell_type": "markdown",
   "metadata": {
    "slideshow": {
     "slide_type": "subslide"
    }
   },
   "source": [
    "#### introducing `pflacs.Calc`"
   ]
  },
  {
   "cell_type": "code",
   "execution_count": 37,
   "metadata": {
    "slideshow": {
     "slide_type": "-"
    }
   },
   "outputs": [
    {
     "data": {
      "text/plain": [
       "True"
      ]
     },
     "execution_count": 37,
     "metadata": {},
     "output_type": "execute_result"
    }
   ],
   "source": [
    "issubclass(pflacs.Calc, pflacs.Premise)"
   ]
  },
  {
   "cell_type": "code",
   "execution_count": 38,
   "metadata": {
    "slideshow": {
     "slide_type": "fragment"
    }
   },
   "outputs": [
    {
     "name": "stdout",
     "output_type": "stream",
     "text": [
      "| Base case (node type: Premise)\n",
      "+--| Load case 1 (node type: Premise)\n",
      ".  +--| Load case 1-1 «sub_nums()» (node type: Calc)\n",
      "\n"
     ]
    }
   ],
   "source": [
    "lc1_1 = pflacs.Calc(\"Load case 1-1 «sub_nums()»\", lc1, funcname=\"sub_nums\")\n",
    "print(lc1_1._root.to_texttree(func=lambda n: f\" {n.name} (node type: {n.__class__.__name__})\"))"
   ]
  },
  {
   "cell_type": "code",
   "execution_count": 39,
   "metadata": {
    "slideshow": {
     "slide_type": "fragment"
    }
   },
   "outputs": [
    {
     "data": {
      "text/plain": [
       "True"
      ]
     },
     "execution_count": 39,
     "metadata": {},
     "output_type": "execute_result"
    }
   ],
   "source": [
    "lc1_1.a - lc1_1.b - lc1_1.c == lc1_1()"
   ]
  },
  {
   "cell_type": "code",
   "execution_count": 40,
   "metadata": {
    "slideshow": {
     "slide_type": "fragment"
    }
   },
   "outputs": [
    {
     "data": {
      "text/plain": [
       "88.5"
      ]
     },
     "execution_count": 40,
     "metadata": {},
     "output_type": "execute_result"
    }
   ],
   "source": [
    "lc1_1._sub_nums"
   ]
  },
  {
   "cell_type": "code",
   "execution_count": 41,
   "metadata": {
    "slideshow": {
     "slide_type": "subslide"
    }
   },
   "outputs": [
    {
     "data": {
      "text/plain": [
       "111.5"
      ]
     },
     "execution_count": 41,
     "metadata": {},
     "output_type": "execute_result"
    }
   ],
   "source": [
    "lc1_2 = pflacs.Calc(\"Load case 1-2 «add_nums()»\", \n",
    "                    lc1, \n",
    "                    funcname=\"add_nums\", \n",
    "                    argmap={\"return\":\"add_nums_result\"})\n",
    "lc1_2()\n",
    "lc1_2.add_nums_result"
   ]
  },
  {
   "cell_type": "markdown",
   "metadata": {
    "slideshow": {
     "slide_type": "subslide"
    }
   },
   "source": [
    "#### make a Pandas dataframe from the result of the `Calc` node execution"
   ]
  },
  {
   "cell_type": "code",
   "execution_count": 42,
   "metadata": {
    "scrolled": false,
    "slideshow": {
     "slide_type": "-"
    }
   },
   "outputs": [
    {
     "data": {
      "text/html": [
       "<div>\n",
       "<style scoped>\n",
       "    .dataframe tbody tr th:only-of-type {\n",
       "        vertical-align: middle;\n",
       "    }\n",
       "\n",
       "    .dataframe tbody tr th {\n",
       "        vertical-align: top;\n",
       "    }\n",
       "\n",
       "    .dataframe thead th {\n",
       "        text-align: right;\n",
       "    }\n",
       "</style>\n",
       "<table border=\"1\" class=\"dataframe\">\n",
       "  <thead>\n",
       "    <tr style=\"text-align: right;\">\n",
       "      <th></th>\n",
       "      <th>a</th>\n",
       "      <th>b</th>\n",
       "      <th>c</th>\n",
       "      <th>add_nums_result</th>\n",
       "    </tr>\n",
       "  </thead>\n",
       "  <tbody>\n",
       "    <tr>\n",
       "      <td>0</td>\n",
       "      <td>100</td>\n",
       "      <td>5</td>\n",
       "      <td>6.5</td>\n",
       "      <td>111.5</td>\n",
       "    </tr>\n",
       "  </tbody>\n",
       "</table>\n",
       "</div>"
      ],
      "text/plain": [
       "     a  b    c  add_nums_result\n",
       "0  100  5  6.5            111.5"
      ]
     },
     "execution_count": 42,
     "metadata": {},
     "output_type": "execute_result"
    }
   ],
   "source": [
    "lc1_2.to_dataframe()   # dataframe stored in lc1_2._df"
   ]
  },
  {
   "cell_type": "markdown",
   "metadata": {
    "slideshow": {
     "slide_type": "subslide"
    }
   },
   "source": [
    "#### let's make a new loadcase"
   ]
  },
  {
   "cell_type": "code",
   "execution_count": 43,
   "metadata": {
    "slideshow": {
     "slide_type": "-"
    }
   },
   "outputs": [],
   "source": [
    "lc2 = basecase.add_child( lc1.copy() )  # method vntree.Node.copy clones a node or branch"
   ]
  },
  {
   "cell_type": "markdown",
   "metadata": {
    "slideshow": {
     "slide_type": "fragment"
    }
   },
   "source": [
    "#### changing the attribute values in the new nodes"
   ]
  },
  {
   "cell_type": "code",
   "execution_count": 44,
   "metadata": {
    "slideshow": {
     "slide_type": "-"
    }
   },
   "outputs": [],
   "source": [
    "lc2.name = \"Load case 2\"\n",
    "lc2.a = 200\n",
    "lc2_1 = lc2.get_child_by_name(\"Load case 1-1 «sub_nums()»\")  # using vntree.Node.get_child_by_name\n",
    "lc2_1.name = \"Load case 2-1 «sub_nums()»»\"\n",
    "lc2_2 = lc2.get_child_by_name(\"Load case 1-2 «add_nums()»\")\n",
    "lc2_2.name = \"Load case 2-2 «add_nums()»\""
   ]
  },
  {
   "cell_type": "markdown",
   "metadata": {
    "slideshow": {
     "slide_type": "subslide"
    }
   },
   "source": [
    "#### Let's plugin another function"
   ]
  },
  {
   "cell_type": "code",
   "execution_count": 45,
   "metadata": {
    "slideshow": {
     "slide_type": "-"
    }
   },
   "outputs": [
    {
     "data": {
      "text/plain": [
       "True"
      ]
     },
     "execution_count": 45,
     "metadata": {},
     "output_type": "execute_result"
    }
   ],
   "source": [
    "def multipily_xyz(k:\"a\", l:\"b\", m:\"c\" = 1) -> \"mult_nums_result\":\n",
    "    \"\"\"Function multiplies 2 or 3 numbers, and returns the product.\"\"\"\n",
    "    return k * l * m\n",
    "\n",
    "basecase.plugin_func(multipily_xyz, newname=\"mult_nums\")"
   ]
  },
  {
   "cell_type": "markdown",
   "metadata": {
    "slideshow": {
     "slide_type": "fragment"
    }
   },
   "source": [
    "Using function annotations instead of `pflacs.Premise.plugin_func` argument `argmap` to re-map argument names and return attribute\n",
    "\n",
    "\"Python does not attach any particular meaning or significance to annotations\"\n",
    "\n",
    "\"annotation consumers can do anything they want with a function's annotations\"\n",
    "\n",
    "[PEP 3107](https://www.python.org/dev/peps/pep-3107/#id29)"
   ]
  },
  {
   "cell_type": "markdown",
   "metadata": {
    "slideshow": {
     "slide_type": "subslide"
    }
   },
   "source": [
    "let's create another load case with `pflacs.Calc`"
   ]
  },
  {
   "cell_type": "code",
   "execution_count": 46,
   "metadata": {
    "scrolled": true,
    "slideshow": {
     "slide_type": "-"
    }
   },
   "outputs": [
    {
     "data": {
      "text/html": [
       "<div>\n",
       "<style scoped>\n",
       "    .dataframe tbody tr th:only-of-type {\n",
       "        vertical-align: middle;\n",
       "    }\n",
       "\n",
       "    .dataframe tbody tr th {\n",
       "        vertical-align: top;\n",
       "    }\n",
       "\n",
       "    .dataframe thead th {\n",
       "        text-align: right;\n",
       "    }\n",
       "</style>\n",
       "<table border=\"1\" class=\"dataframe\">\n",
       "  <thead>\n",
       "    <tr style=\"text-align: right;\">\n",
       "      <th></th>\n",
       "      <th>a</th>\n",
       "      <th>b</th>\n",
       "      <th>c</th>\n",
       "      <th>mult_nums_result</th>\n",
       "    </tr>\n",
       "  </thead>\n",
       "  <tbody>\n",
       "    <tr>\n",
       "      <td>0</td>\n",
       "      <td>10</td>\n",
       "      <td>0.0</td>\n",
       "      <td>6.5</td>\n",
       "      <td>0.0</td>\n",
       "    </tr>\n",
       "    <tr>\n",
       "      <td>1</td>\n",
       "      <td>10</td>\n",
       "      <td>2.5</td>\n",
       "      <td>6.5</td>\n",
       "      <td>162.5</td>\n",
       "    </tr>\n",
       "    <tr>\n",
       "      <td>2</td>\n",
       "      <td>10</td>\n",
       "      <td>5.0</td>\n",
       "      <td>6.5</td>\n",
       "      <td>325.0</td>\n",
       "    </tr>\n",
       "    <tr>\n",
       "      <td>3</td>\n",
       "      <td>10</td>\n",
       "      <td>7.5</td>\n",
       "      <td>6.5</td>\n",
       "      <td>487.5</td>\n",
       "    </tr>\n",
       "    <tr>\n",
       "      <td>4</td>\n",
       "      <td>10</td>\n",
       "      <td>10.0</td>\n",
       "      <td>6.5</td>\n",
       "      <td>650.0</td>\n",
       "    </tr>\n",
       "  </tbody>\n",
       "</table>\n",
       "</div>"
      ],
      "text/plain": [
       "    a     b    c  mult_nums_result\n",
       "0  10   0.0  6.5               0.0\n",
       "1  10   2.5  6.5             162.5\n",
       "2  10   5.0  6.5             325.0\n",
       "3  10   7.5  6.5             487.5\n",
       "4  10  10.0  6.5             650.0"
      ]
     },
     "execution_count": 46,
     "metadata": {},
     "output_type": "execute_result"
    }
   ],
   "source": [
    "lc3 = pflacs.Calc(\"Load case 3 «mult_nums»\", basecase, funcname=\"mult_nums\")\n",
    "import numpy\n",
    "lc3.b = numpy.linspace(0,10,5)\n",
    "lc3()\n",
    "lc3.to_dataframe()"
   ]
  },
  {
   "cell_type": "markdown",
   "metadata": {
    "slideshow": {
     "slide_type": "subslide"
    }
   },
   "source": [
    "#### Let’s take a look at the tree structure of the study we have built:"
   ]
  },
  {
   "cell_type": "code",
   "execution_count": 47,
   "metadata": {
    "scrolled": true,
    "slideshow": {
     "slide_type": "-"
    }
   },
   "outputs": [
    {
     "name": "stdout",
     "output_type": "stream",
     "text": [
      "| Base case\n",
      "+--| Load case 1\n",
      ".  +--| Load case 1-1 «sub_nums()»\n",
      ".  .  | Load case 1-2 «add_nums()»\n",
      ".  | Load case 2\n",
      ".  +--| Load case 2-1 «sub_nums()»»\n",
      ".  .  | Load case 2-2 «add_nums()»\n",
      ".  | Load case 3 «mult_nums»\n",
      "\n"
     ]
    }
   ],
   "source": [
    "print(basecase.to_texttree())"
   ]
  },
  {
   "cell_type": "markdown",
   "metadata": {
    "slideshow": {
     "slide_type": "subslide"
    }
   },
   "source": [
    "Each `vntree.Node` instance is a generator, so the tree can be traversed simply by interating over the root node. \n",
    "To re-execute the Calc nodes:"
   ]
  },
  {
   "cell_type": "code",
   "execution_count": 48,
   "metadata": {
    "scrolled": true,
    "slideshow": {
     "slide_type": "-"
    }
   },
   "outputs": [
    {
     "name": "stdout",
     "output_type": "stream",
     "text": [
      "Load case 1-1 «sub_nums()» calculated 88.5\n",
      "Load case 1-2 «add_nums()» calculated 111.5\n",
      "Load case 2-1 «sub_nums()»» calculated 188.5\n",
      "Load case 2-2 «add_nums()» calculated 211.5\n",
      "Load case 3 «mult_nums» calculated [  0.  162.5 325.  487.5 650. ]\n"
     ]
    }
   ],
   "source": [
    "for node in basecase:\n",
    "    if type(node) == pflacs.Calc:\n",
    "        result = node()\n",
    "        print(f\"{node.name} calculated {result}\")"
   ]
  },
  {
   "cell_type": "markdown",
   "metadata": {
    "slideshow": {
     "slide_type": "subslide"
    }
   },
   "source": [
    "Now that our study has been re-calculated, we will save it as `Pickle` file:"
   ]
  },
  {
   "cell_type": "code",
   "execution_count": 49,
   "metadata": {
    "slideshow": {
     "slide_type": "-"
    }
   },
   "outputs": [
    {
     "data": {
      "text/plain": [
       "True"
      ]
     },
     "execution_count": 49,
     "metadata": {},
     "output_type": "execute_result"
    }
   ],
   "source": [
    "basecase.savefile(\"basic_usage_example.pflacs\")"
   ]
  },
  {
   "cell_type": "markdown",
   "metadata": {
    "slideshow": {
     "slide_type": "subslide"
    }
   },
   "source": [
    "To re-open the study, we would use the class method `pflacs.Premise.openfile` that is inherited from `vntree.Node` "
   ]
  },
  {
   "cell_type": "code",
   "execution_count": 50,
   "metadata": {
    "scrolled": true,
    "slideshow": {
     "slide_type": "-"
    }
   },
   "outputs": [
    {
     "name": "stdout",
     "output_type": "stream",
     "text": [
      "| Base case\n",
      "+--| Load case 1\n",
      ".  +--| Load case 1-1 «sub_nums()»\n",
      ".  .  | Load case 1-2 «add_nums()»\n",
      ".  | Load case 2\n",
      ".  +--| Load case 2-1 «sub_nums()»»\n",
      ".  .  | Load case 2-2 «add_nums()»\n",
      ".  | Load case 3 «mult_nums»\n",
      "\n"
     ]
    }
   ],
   "source": [
    "new_study = pflacs.Premise.openfile(\"basic_usage_example.pflacs\")\n",
    "print(new_study.to_texttree())"
   ]
  },
  {
   "cell_type": "markdown",
   "metadata": {
    "slideshow": {
     "slide_type": "subslide"
    }
   },
   "source": [
    "#### For large projects, saving results in a `Pickle` file could be inconvenient, so the results from `pflacs.Calc` nodes can be saved in a `HDF5` file:"
   ]
  },
  {
   "cell_type": "code",
   "execution_count": 51,
   "metadata": {
    "slideshow": {
     "slide_type": "-"
    }
   },
   "outputs": [],
   "source": [
    "for node in basecase:\n",
    "    if type(node) == pflacs.Calc:\n",
    "        node.to_hdf5()"
   ]
  },
  {
   "cell_type": "markdown",
   "metadata": {
    "slideshow": {
     "slide_type": "subslide"
    }
   },
   "source": [
    "![basic_usage_example_HDFView](img/basic_usage_example_HDFView.jpg)"
   ]
  },
  {
   "cell_type": "markdown",
   "metadata": {
    "slideshow": {
     "slide_type": "slide"
    }
   },
   "source": [
    "## Using ``pflacs`` with external libraries\n",
    "\n",
    "**References**\n",
    "\n",
    "1. ``seawater`` module, functions for physical properties of sea water, author: Bjørn Ådlandsvik, https://github.com/bjornaa/seawater \n",
    "1. ``wall`` module, subsea pipeline wall thickness design to PD 8010-2, author: Ben Randerson, https://github.com/benranderson/wall\n",
    "1. ``numpy.interp`` function for 1-d linear interpolation https://docs.scipy.org/doc/numpy/reference/generated/numpy.interp.html"
   ]
  },
  {
   "cell_type": "code",
   "execution_count": 52,
   "metadata": {
    "slideshow": {
     "slide_type": "subslide"
    }
   },
   "outputs": [],
   "source": [
    "import seawater\n",
    "import wall\n",
    "\n",
    "extlib = pflacs.Premise(\"External libraries test\",\n",
    "                       parameters={\"water_depth\":10.0})"
   ]
  },
  {
   "cell_type": "markdown",
   "metadata": {
    "slideshow": {
     "slide_type": "subslide"
    }
   },
   "source": [
    "### external function ``seawater.dens``\n",
    "\n",
    "```python\n",
    "help(seawater.dens)\n",
    "```\n",
    "\n",
    "```\n",
    "Help on function dens in module seawater.density:\n",
    "\n",
    "dens(S, T, P=0)\n",
    "    Compute density of seawater from salinity, temperature, and pressure\n",
    "    \n",
    "    Input:\n",
    "        S = Salinity,     [PSS-78]\n",
    "        T = Temperature,  [�C]\n",
    "        P = Pressure,     [dbar = 10**4 Pa]\n",
    "    Output:\n",
    "        Density,          [kg/m**3]\n",
    "```"
   ]
  },
  {
   "cell_type": "code",
   "execution_count": 53,
   "metadata": {
    "scrolled": true,
    "slideshow": {
     "slide_type": "subslide"
    }
   },
   "outputs": [
    {
     "data": {
      "text/plain": [
       "1027.2741886990423"
      ]
     },
     "execution_count": 53,
     "metadata": {},
     "output_type": "execute_result"
    }
   ],
   "source": [
    "extlib.plugin_func(seawater.dens)\n",
    "extlib.add_param(\"S\", 35, \"water salinity\")\n",
    "extlib.add_param(\"T\", 8, \"water temperature (°C)\");\n",
    "\n",
    "density = extlib.dens()\n",
    "extlib.add_param(\"rho_seawater\", density, \"water density (kg/m3)\")\n",
    "extlib.rho_seawater"
   ]
  },
  {
   "cell_type": "markdown",
   "metadata": {
    "slideshow": {
     "slide_type": "subslide"
    }
   },
   "source": [
    "### external function ``wall.pressure_head``\n",
    "\n",
    "```python\n",
    "help(wall.pressure_head)\n",
    "```\n",
    "\n",
    "```\n",
    "Help on function pressure_head in module wall.wall:\n",
    "\n",
    "pressure_head(h, rho, g=9.81)\n",
    "    Calculate the fluid pressure head.\n",
    "    \n",
    "    Parameters\n",
    "    h : array : Water depth [m]\n",
    "    rho : array : Fluid density [kg/m^3]\n",
    "    g : float : Acceleration of gravitiy [m/s/s]\n",
    "    \n",
    "    Returns\n",
    "    P_h : array : Pressure head [Pa]\n",
    "```\n"
   ]
  },
  {
   "cell_type": "code",
   "execution_count": 54,
   "metadata": {
    "slideshow": {
     "slide_type": "subslide"
    }
   },
   "outputs": [
    {
     "name": "stdout",
     "output_type": "stream",
     "text": [
      "«External libraries test» pressure = 100775.59791137604 at water depth 10.0\n"
     ]
    }
   ],
   "source": [
    "extlib.plugin_func(wall.pressure_head, \n",
    "                 argmap={\"h\":\"water_depth\", \"rho\":\"rho_seawater\"});\n",
    "\n",
    "extlib.add_param(\"pressure\", desc=\"pressure (Pa)\")\n",
    "extlib.pressure = extlib.pressure_head()\n",
    "print(f'«{extlib.name}» pressure = {extlib.pressure} at water depth {extlib.water_depth}')"
   ]
  },
  {
   "cell_type": "code",
   "execution_count": 55,
   "metadata": {
    "slideshow": {
     "slide_type": "skip"
    }
   },
   "outputs": [],
   "source": [
    "extlib.add_param(\"salinities\", desc=\"water salinity (g/kg)\")\n",
    "extlib.add_param(\"densities\", desc=\"water density (kg/m^3)\")\n",
    "extlib.salinities = numpy.linspace(30, 40, 11)\n",
    "extlib.densities = extlib.dens(S=extlib.salinities)"
   ]
  },
  {
   "cell_type": "code",
   "execution_count": 56,
   "metadata": {
    "scrolled": false,
    "slideshow": {
     "slide_type": "skip"
    }
   },
   "outputs": [
    {
     "data": {
      "image/png": "[encoded data removed]",
      "text/plain": [
       "<Figure size 432x288 with 1 Axes>"
      ]
     },
     "metadata": {
      "needs_background": "light"
     },
     "output_type": "display_data"
    }
   ],
   "source": [
    "plt.plot(extlib.salinities, extlib.densities, \"bx\")\n",
    "plt.xlabel(extlib.get_param_desc(\"salinities\")); plt.ylabel(extlib.get_param_desc(\"densities\"));"
   ]
  },
  {
   "cell_type": "markdown",
   "metadata": {},
   "source": [
    "### external function ``numpy.interp``\n",
    "\n",
    "```python\n",
    "help(numpy.interp)\n",
    "```\n",
    "\n",
    "```\n",
    "Python Library Documentation: function interp in module numpy\n",
    "\n",
    "interp(x, xp, fp, left=None, right=None, period=None)\n",
    "    One-dimensional linear interpolation.\n",
    "    \n",
    "    Parameters\n",
    "    x : array_like\n",
    "        The x-coordinates at which to evaluate the interpolated values.\n",
    "    \n",
    "    xp : 1-D sequence of floats\n",
    "        The x-coordinates of the data points,\n",
    "    \n",
    "    fp : 1-D sequence of float or complex\n",
    "        The y-coordinates of the data points,\n",
    "```"
   ]
  },
  {
   "cell_type": "code",
   "execution_count": 59,
   "metadata": {
    "slideshow": {
     "slide_type": "subslide"
    }
   },
   "outputs": [],
   "source": [
    "extlib.plugin_func(numpy.interp, \n",
    "            argmap={\"x\":\"S\", \"xp\":\"salinities\", \"fp\":\"densities\"}, \n",
    "            newname=\"interp_water_density\");"
   ]
  },
  {
   "cell_type": "code",
   "execution_count": 60,
   "metadata": {
    "slideshow": {
     "slide_type": "fragment"
    }
   },
   "outputs": [
    {
     "name": "stdout",
     "output_type": "stream",
     "text": [
      "Interpolated water density = 1027.2741886990423, for salinity = 35 \n"
     ]
    }
   ],
   "source": [
    "rho_interp = extlib.interp_water_density()\n",
    "print(f\"Interpolated water density = {rho_interp}, for salinity = {extlib.S} \")"
   ]
  },
  {
   "cell_type": "code",
   "execution_count": 61,
   "metadata": {},
   "outputs": [
    {
     "name": "stdout",
     "output_type": "stream",
     "text": [
      "Interpolated water density = 1030.81293808007, for salinity = 39.5 \n"
     ]
    }
   ],
   "source": [
    "rho_interp = extlib.interp_water_density(S=39.5)\n",
    "print(f\"Interpolated water density = {rho_interp}, for salinity = 39.5 \")"
   ]
  },
  {
   "cell_type": "markdown",
   "metadata": {
    "slideshow": {
     "slide_type": "subslide"
    }
   },
   "source": [
    "### external function ``math.sqrt``\n",
    "\n",
    "```python\n",
    "help(math.sqrt)\n",
    "```\n",
    "\n",
    "```\n",
    "Help on built-in function sqrt in module math:\n",
    "\n",
    "sqrt(x, /)\n",
    "    Return the square root of x.\n",
    "```"
   ]
  },
  {
   "cell_type": "code",
   "execution_count": 58,
   "metadata": {},
   "outputs": [
    {
     "name": "stderr",
     "output_type": "stream",
     "text": [
      "Premise.plugin_func: args «func»=«<built-in function sqrt>» «module»=«math» pflacs does not currently support functions with POSITIONAL_ONLY arguments.\n"
     ]
    },
    {
     "data": {
      "text/plain": [
       "False"
      ]
     },
     "execution_count": 58,
     "metadata": {},
     "output_type": "execute_result"
    }
   ],
   "source": [
    "import math\n",
    "extlib.plugin_func(math.sqrt)"
   ]
  },
  {
   "cell_type": "markdown",
   "metadata": {
    "slideshow": {
     "slide_type": "slide"
    }
   },
   "source": [
    "# the end...\n",
    "\n",
    "### thanks very much"
   ]
  }
 ],
 "metadata": {
  "celltoolbar": "Slideshow",
  "kernelspec": {
   "display_name": "Python 3",
   "language": "python",
   "name": "python3"
  },
  "language_info": {
   "codemirror_mode": {
    "name": "ipython",
    "version": 3
   },
   "file_extension": ".py",
   "mimetype": "text/x-python",
   "name": "python",
   "nbconvert_exporter": "python",
   "pygments_lexer": "ipython3",
   "version": "3.7.3"
  }
 },
 "nbformat": 4,
 "nbformat_minor": 2
}
