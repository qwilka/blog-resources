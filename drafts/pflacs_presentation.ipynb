{
 "cells": [
  {
   "cell_type": "markdown",
   "metadata": {
    "slideshow": {
     "slide_type": "slide"
    }
   },
   "source": [
    "<h2 align=\"center\">pflacs: Faster loadcases and parameter studies</h2> \n",
    "<h4 align=\"center\">enhancing the engineering design process with Python</h4> \n",
    "<h3 align=\"center\">Stephen McEntee</h3>  \n",
    "<h3 align=\"center\">PyConIE 2019-10-12</h3>\n"
   ]
  },
  {
   "cell_type": "markdown",
   "metadata": {
    "slideshow": {
     "slide_type": "slide"
    }
   },
   "source": [
    "### about me ...\n",
    "\n",
    "- chartered mechanical engineer\n",
    "- subsea / pipeline engineer in oil & gas industry since 1997\n",
    "- Python programming since ~2003\n",
    "- my own startup ``Qwilka``\n",
    "    - developing ``Visinum`` data management and analytics platform \n",
    "    - unstructured engineering data from engineering survey\n",
    "    - lidar, sonar, video, images, etc.\n",
    "- website: https://qwilka.github.io/\n",
    "- Github: https://github.com/qwilka\n",
    "- Linkedin: https://www.linkedin.com/in/stephen-mcentee-51a187121\n",
    "\n"
   ]
  },
  {
   "cell_type": "markdown",
   "metadata": {
    "slideshow": {
     "slide_type": "subslide"
    }
   },
   "source": [
    "![2019-09-30_Visinum_screenshot3.jpg](img/2019-09-30_Visinum_screenshot3.jpg)"
   ]
  },
  {
   "cell_type": "markdown",
   "metadata": {
    "slideshow": {
     "slide_type": "subslide"
    }
   },
   "source": [
    "![2019-09-30_Visinum_screenshot1.jpg](img/2019-09-30_Visinum_screenshot1.jpg)"
   ]
  },
  {
   "cell_type": "markdown",
   "metadata": {
    "slideshow": {
     "slide_type": "slide"
    }
   },
   "source": [
    "## Scope\n",
    "\n",
    "1. Motivation: automate engineering computations\n",
    "1. Engineering: civil/mechanical/stuctural\n",
    "1. Using Python to enhance the engineering design process\n",
    "1. Introducing Python modules (open source, MIT licence):\n",
    "    - ``pflacs`` faster load-cases and paramter studies\n",
    "    - ``vntree`` tree data structure\n",
    "    - ``PDover2t`` library of functions for pipelines design and analysis \n"
   ]
  },
  {
   "cell_type": "markdown",
   "metadata": {
    "slideshow": {
     "slide_type": "subslide"
    }
   },
   "source": [
    "### The ``Barlow`` formula for hoop stress in a pressurised cylinder\n",
    "\n",
    "$$\\sigma_H = \\frac{PD}{2t}$$  \n",
    "\n",
    "<img src=\"img/hoop_stress_in_pipe_Elliotis_3.png\" alt=\"hoop stress\" title=\"Title text\" style=\"display: inline-block; margin: 0\" /> \n",
    "&nbsp;&nbsp;&nbsp;<small>image: \n",
    "<a href=\"https://creativecommons.org/licenses/by/3.0/\">CC BY 3.0</a> 2013 <a href=\"https://www.researchgate.net/publication/290835187_A_Finite_Element_Approach_for_the_Elastic-Plastic_Behavior_of_a_Steel_Pipe_Used_to_Transport_Natural_Gas\">Miltiades C. Elliotis</a>  \n",
    "</small>"
   ]
  },
  {
   "cell_type": "markdown",
   "metadata": {
    "slideshow": {
     "slide_type": "fragment"
    }
   },
   "source": [
    "<h4 align=\"center\">\"pipeline engineering is nothing but PD/2t\"</h4>"
   ]
  },
  {
   "cell_type": "markdown",
   "metadata": {
    "slideshow": {
     "slide_type": "subslide"
    }
   },
   "source": [
    "### Typical engineering design process (in brief)\n",
    "\n",
    "- Establish the `Design Basis`\n",
    "  - design parameters\n",
    "  - constraints & assumptions\n",
    "  - specify design codes and standards\n",
    "- Plan analyses in hierarchical structure:\n",
    "  - base-case\n",
    "    - load cases\n",
    "      - parameter studies\n",
    "- Analyse in accordance with prescibed Design Code\n",
    "  - Levels of analysis: 1, 2 and 3\n",
    "- Final goal: compliance with design code\n",
    "  - regulatory driven, not optimisation"
   ]
  },
  {
   "cell_type": "markdown",
   "metadata": {
    "slideshow": {
     "slide_type": "subslide"
    }
   },
   "source": [
    "## engineering design process workflow\n",
    "\n",
    "- Iterative process (frequent re-work)\n",
    "- Typical software tool chain:\n",
    "  - spreadsheet (level 1 analysis)\n",
    "  - computational worksheet (level 1 analysis)\n",
    "  - finite element program (level 3 analysis)\n",
    "  - word processor for reporting\n",
    "- PC on every desk\n",
    "  - GUI point-n-click environment\n",
    "  - main productivity tool: copy-n-paste\n",
    "- Manual paper-based workflows re-implemented on PCs"
   ]
  },
  {
   "cell_type": "markdown",
   "metadata": {
    "slideshow": {
     "slide_type": "slide"
    }
   },
   "source": [
    "# Objectives"
   ]
  },
  {
   "cell_type": "markdown",
   "metadata": {
    "slideshow": {
     "slide_type": "fragment"
    }
   },
   "source": [
    "flexibility\n",
    "light-touch framework\n",
    "minimise restrictions"
   ]
  },
  {
   "cell_type": "markdown",
   "metadata": {
    "slideshow": {
     "slide_type": "slide"
    }
   },
   "source": [
    "## Basic usage of `pflacs`"
   ]
  },
  {
   "cell_type": "code",
   "execution_count": 1,
   "metadata": {
    "slideshow": {
     "slide_type": "-"
    }
   },
   "outputs": [
    {
     "name": "stdout",
     "output_type": "stream",
     "text": [
      "basecase.a=10 basecase.b=5\n"
     ]
    }
   ],
   "source": [
    "import pflacs\n",
    "\n",
    "basecase = pflacs.Premise(\"Base case\", \n",
    "                      parameters={\"a\":10, \"b\":5} )\n",
    "\n",
    "print(f\"basecase.a={basecase.a} basecase.b={basecase.b}\")"
   ]
  },
  {
   "cell_type": "markdown",
   "metadata": {
    "slideshow": {
     "slide_type": "subslide"
    }
   },
   "source": [
    "#### `pflacs.Premise.plugin_func` used  to 'plugin' or patch a function"
   ]
  },
  {
   "cell_type": "code",
   "execution_count": 2,
   "metadata": {
    "slideshow": {
     "slide_type": "-"
    }
   },
   "outputs": [],
   "source": [
    "def add_nums(a, b, c=0):\n",
    "    \"\"\"Function adds 2 or 3 numbers, and returns the sum.\"\"\"\n",
    "    return a + b + c"
   ]
  },
  {
   "cell_type": "code",
   "execution_count": 3,
   "metadata": {
    "slideshow": {
     "slide_type": "-"
    }
   },
   "outputs": [
    {
     "data": {
      "text/plain": [
       "<pflacs.pflacs.Function at 0x7efbf8b7b2b0>"
      ]
     },
     "execution_count": 3,
     "metadata": {},
     "output_type": "execute_result"
    }
   ],
   "source": [
    "basecase.plugin_func(add_nums)\n",
    "basecase.add_nums"
   ]
  },
  {
   "cell_type": "code",
   "execution_count": 4,
   "metadata": {
    "slideshow": {
     "slide_type": "fragment"
    }
   },
   "outputs": [
    {
     "data": {
      "text/plain": [
       "<pflacs.pflacs.Function at 0x7efbf8b7b2b0>"
      ]
     },
     "execution_count": 4,
     "metadata": {},
     "output_type": "execute_result"
    }
   ],
   "source": [
    "pflacs.Premise.add_nums"
   ]
  },
  {
   "cell_type": "code",
   "execution_count": 5,
   "metadata": {
    "slideshow": {
     "slide_type": "fragment"
    }
   },
   "outputs": [
    {
     "data": {
      "text/plain": [
       "False"
      ]
     },
     "execution_count": 5,
     "metadata": {},
     "output_type": "execute_result"
    }
   ],
   "source": [
    "basecase.add_nums is add_nums"
   ]
  },
  {
   "cell_type": "code",
   "execution_count": 6,
   "metadata": {
    "slideshow": {
     "slide_type": "subslide"
    }
   },
   "outputs": [
    {
     "name": "stdout",
     "output_type": "stream",
     "text": [
      "Help on Function in module __main__:\n",
      "\n",
      "add_nums(a, b, c=0)\n",
      "    Function adds 2 or 3 numbers, and returns the sum.\n",
      "\n"
     ]
    }
   ],
   "source": [
    "help(basecase.add_nums)"
   ]
  },
  {
   "cell_type": "code",
   "execution_count": 7,
   "metadata": {
    "slideshow": {
     "slide_type": "subslide"
    }
   },
   "outputs": [
    {
     "data": {
      "text/plain": [
       "15"
      ]
     },
     "execution_count": 7,
     "metadata": {},
     "output_type": "execute_result"
    }
   ],
   "source": [
    "basecase.add_nums()"
   ]
  },
  {
   "cell_type": "code",
   "execution_count": 8,
   "metadata": {
    "slideshow": {
     "slide_type": "-"
    }
   },
   "outputs": [
    {
     "data": {
      "text/plain": [
       "True"
      ]
     },
     "execution_count": 8,
     "metadata": {},
     "output_type": "execute_result"
    }
   ],
   "source": [
    "basecase.a + basecase.b == basecase.add_nums()"
   ]
  },
  {
   "cell_type": "code",
   "execution_count": 9,
   "metadata": {
    "slideshow": {
     "slide_type": "fragment"
    }
   },
   "outputs": [
    {
     "data": {
      "text/plain": [
       "7"
      ]
     },
     "execution_count": 9,
     "metadata": {},
     "output_type": "execute_result"
    }
   ],
   "source": [
    "basecase.add_nums(b=-3)"
   ]
  },
  {
   "cell_type": "code",
   "execution_count": 10,
   "metadata": {
    "slideshow": {
     "slide_type": "-"
    }
   },
   "outputs": [
    {
     "data": {
      "text/plain": [
       "True"
      ]
     },
     "execution_count": 10,
     "metadata": {},
     "output_type": "execute_result"
    }
   ],
   "source": [
    "basecase.a + (-3) == basecase.add_nums(b=-3)"
   ]
  },
  {
   "cell_type": "code",
   "execution_count": 11,
   "metadata": {
    "slideshow": {
     "slide_type": "fragment"
    }
   },
   "outputs": [
    {
     "data": {
      "text/plain": [
       "5"
      ]
     },
     "execution_count": 11,
     "metadata": {},
     "output_type": "execute_result"
    }
   ],
   "source": [
    "basecase.b"
   ]
  },
  {
   "cell_type": "code",
   "execution_count": 12,
   "metadata": {
    "scrolled": true,
    "slideshow": {
     "slide_type": "subslide"
    }
   },
   "outputs": [
    {
     "data": {
      "text/plain": [
       "6.02"
      ]
     },
     "execution_count": 12,
     "metadata": {},
     "output_type": "execute_result"
    }
   ],
   "source": [
    "basecase.add_nums(5, 4.02, -3)"
   ]
  },
  {
   "cell_type": "code",
   "execution_count": 13,
   "metadata": {
    "slideshow": {
     "slide_type": "-"
    }
   },
   "outputs": [
    {
     "data": {
      "text/plain": [
       "True"
      ]
     },
     "execution_count": 13,
     "metadata": {},
     "output_type": "execute_result"
    }
   ],
   "source": [
    "5 + 4.02 + (-3) == basecase.add_nums(5, 4.02, -3)"
   ]
  },
  {
   "cell_type": "code",
   "execution_count": 14,
   "metadata": {
    "slideshow": {
     "slide_type": "fragment"
    }
   },
   "outputs": [
    {
     "name": "stdout",
     "output_type": "stream",
     "text": [
      "basecase.a=10, basecase.b=5\n"
     ]
    }
   ],
   "source": [
    "print(f\"basecase.a={basecase.a}, basecase.b={basecase.b}\")"
   ]
  },
  {
   "cell_type": "markdown",
   "metadata": {
    "slideshow": {
     "slide_type": "subslide"
    }
   },
   "source": [
    "#### let's plugin another funcion"
   ]
  },
  {
   "cell_type": "code",
   "execution_count": 15,
   "metadata": {
    "slideshow": {
     "slide_type": "-"
    }
   },
   "outputs": [],
   "source": [
    "def sub_nums(x, y, z=0):\n",
    "    \"\"\"Function subtracts 2 or 3 numbers, and returns the result.\"\"\"\n",
    "    return x - y - z"
   ]
  },
  {
   "cell_type": "code",
   "execution_count": 16,
   "metadata": {
    "slideshow": {
     "slide_type": "-"
    }
   },
   "outputs": [
    {
     "data": {
      "text/plain": [
       "True"
      ]
     },
     "execution_count": 16,
     "metadata": {},
     "output_type": "execute_result"
    }
   ],
   "source": [
    "basecase.plugin_func(sub_nums, argmap={\"x\":\"a\", \"y\":\"b\", \"z\":\"c\"} )"
   ]
  },
  {
   "cell_type": "code",
   "execution_count": 17,
   "metadata": {
    "slideshow": {
     "slide_type": "fragment"
    }
   },
   "outputs": [
    {
     "data": {
      "text/plain": [
       "True"
      ]
     },
     "execution_count": 17,
     "metadata": {},
     "output_type": "execute_result"
    }
   ],
   "source": [
    "basecase.add_param(\"c\", 6.5)"
   ]
  },
  {
   "cell_type": "code",
   "execution_count": 18,
   "metadata": {
    "slideshow": {
     "slide_type": "-"
    }
   },
   "outputs": [
    {
     "data": {
      "text/plain": [
       "6.5"
      ]
     },
     "execution_count": 18,
     "metadata": {},
     "output_type": "execute_result"
    }
   ],
   "source": [
    "basecase.c"
   ]
  },
  {
   "cell_type": "code",
   "execution_count": 19,
   "metadata": {
    "slideshow": {
     "slide_type": "subslide"
    }
   },
   "outputs": [
    {
     "data": {
      "text/plain": [
       "-1.5"
      ]
     },
     "execution_count": 19,
     "metadata": {},
     "output_type": "execute_result"
    }
   ],
   "source": [
    "basecase.sub_nums()"
   ]
  },
  {
   "cell_type": "code",
   "execution_count": 20,
   "metadata": {
    "slideshow": {
     "slide_type": "-"
    }
   },
   "outputs": [
    {
     "data": {
      "text/plain": [
       "True"
      ]
     },
     "execution_count": 20,
     "metadata": {},
     "output_type": "execute_result"
    }
   ],
   "source": [
    "basecase.a - basecase.b - basecase.c == basecase.sub_nums()"
   ]
  },
  {
   "cell_type": "markdown",
   "metadata": {
    "slideshow": {
     "slide_type": "subslide"
    }
   },
   "source": [
    "`pflacs.Premise` is a tree"
   ]
  },
  {
   "cell_type": "code",
   "execution_count": 21,
   "metadata": {
    "slideshow": {
     "slide_type": "-"
    }
   },
   "outputs": [
    {
     "data": {
      "text/plain": [
       "True"
      ]
     },
     "execution_count": 21,
     "metadata": {},
     "output_type": "execute_result"
    }
   ],
   "source": [
    "import vntree\n",
    "issubclass(pflacs.Premise, vntree.Node)"
   ]
  },
  {
   "cell_type": "markdown",
   "metadata": {
    "slideshow": {
     "slide_type": "fragment"
    }
   },
   "source": [
    "let's make a new loadcase, based on `basecase`"
   ]
  },
  {
   "cell_type": "code",
   "execution_count": 22,
   "metadata": {
    "slideshow": {
     "slide_type": "-"
    }
   },
   "outputs": [
    {
     "data": {
      "text/plain": [
       "'Base case'"
      ]
     },
     "execution_count": 22,
     "metadata": {},
     "output_type": "execute_result"
    }
   ],
   "source": [
    "lc1 = pflacs.Premise(\"Load case 1\", parent=basecase, parameters={\"a\":100})\n",
    "lc1.parent.name"
   ]
  },
  {
   "cell_type": "code",
   "execution_count": 23,
   "metadata": {
    "slideshow": {
     "slide_type": "fragment"
    }
   },
   "outputs": [
    {
     "name": "stdout",
     "output_type": "stream",
     "text": [
      "| Base case\n",
      "+--| Load case 1\n",
      "\n"
     ]
    }
   ],
   "source": [
    "print(basecase.to_texttree())"
   ]
  },
  {
   "cell_type": "code",
   "execution_count": 24,
   "metadata": {
    "slideshow": {
     "slide_type": "subslide"
    }
   },
   "outputs": [
    {
     "data": {
      "text/plain": [
       "111.5"
      ]
     },
     "execution_count": 24,
     "metadata": {},
     "output_type": "execute_result"
    }
   ],
   "source": [
    "lc1.add_nums()"
   ]
  },
  {
   "cell_type": "code",
   "execution_count": 25,
   "metadata": {
    "slideshow": {
     "slide_type": "-"
    }
   },
   "outputs": [
    {
     "data": {
      "text/plain": [
       "True"
      ]
     },
     "execution_count": 25,
     "metadata": {},
     "output_type": "execute_result"
    }
   ],
   "source": [
    "lc1.a + lc1.b + lc1.c == lc1.add_nums()"
   ]
  },
  {
   "cell_type": "code",
   "execution_count": 26,
   "metadata": {
    "slideshow": {
     "slide_type": "fragment"
    }
   },
   "outputs": [
    {
     "name": "stdout",
     "output_type": "stream",
     "text": [
      "lc1.a = 100, basecase.a = 10\n"
     ]
    }
   ],
   "source": [
    "print(f\"lc1.a = {lc1.a}, basecase.a = {basecase.a}\")"
   ]
  },
  {
   "cell_type": "code",
   "execution_count": 27,
   "metadata": {
    "slideshow": {
     "slide_type": "fragment"
    }
   },
   "outputs": [
    {
     "name": "stdout",
     "output_type": "stream",
     "text": [
      "lc1.b = 5, basecase.b = 5\n"
     ]
    }
   ],
   "source": [
    "print(f\"lc1.b = {lc1.b}, basecase.b = {basecase.b}\")"
   ]
  },
  {
   "cell_type": "code",
   "execution_count": 28,
   "metadata": {
    "slideshow": {
     "slide_type": "-"
    }
   },
   "outputs": [
    {
     "data": {
      "text/plain": [
       "True"
      ]
     },
     "execution_count": 28,
     "metadata": {},
     "output_type": "execute_result"
    }
   ],
   "source": [
    "lc1.b is basecase.b"
   ]
  },
  {
   "cell_type": "markdown",
   "metadata": {
    "slideshow": {
     "slide_type": "subslide"
    }
   },
   "source": [
    "#### introducing `pflacs.Calc`"
   ]
  },
  {
   "cell_type": "code",
   "execution_count": 29,
   "metadata": {
    "slideshow": {
     "slide_type": "-"
    }
   },
   "outputs": [
    {
     "data": {
      "text/plain": [
       "True"
      ]
     },
     "execution_count": 29,
     "metadata": {},
     "output_type": "execute_result"
    }
   ],
   "source": [
    "issubclass(pflacs.Calc, pflacs.Premise)"
   ]
  },
  {
   "cell_type": "code",
   "execution_count": 30,
   "metadata": {
    "slideshow": {
     "slide_type": "fragment"
    }
   },
   "outputs": [
    {
     "name": "stdout",
     "output_type": "stream",
     "text": [
      "| Base case (node type: Premise)\n",
      "+--| Load case 1 (node type: Premise)\n",
      ".  +--| Load case 1-1 «sub_nums()» (node type: Calc)\n",
      "\n"
     ]
    }
   ],
   "source": [
    "lc1_1 = pflacs.Calc(\"Load case 1-1 «sub_nums()»\", lc1, funcname=\"sub_nums\")\n",
    "print(lc1_1._root.to_texttree(func=lambda n: f\" {n.name} (node type: {n.__class__.__name__})\"))"
   ]
  },
  {
   "cell_type": "code",
   "execution_count": 31,
   "metadata": {
    "slideshow": {
     "slide_type": "fragment"
    }
   },
   "outputs": [
    {
     "data": {
      "text/plain": [
       "True"
      ]
     },
     "execution_count": 31,
     "metadata": {},
     "output_type": "execute_result"
    }
   ],
   "source": [
    "lc1_1.a - lc1_1.b - lc1_1.c == lc1_1()"
   ]
  },
  {
   "cell_type": "code",
   "execution_count": 32,
   "metadata": {
    "slideshow": {
     "slide_type": "fragment"
    }
   },
   "outputs": [
    {
     "data": {
      "text/plain": [
       "88.5"
      ]
     },
     "execution_count": 32,
     "metadata": {},
     "output_type": "execute_result"
    }
   ],
   "source": [
    "lc1_1._sub_nums"
   ]
  },
  {
   "cell_type": "code",
   "execution_count": 33,
   "metadata": {
    "slideshow": {
     "slide_type": "subslide"
    }
   },
   "outputs": [
    {
     "data": {
      "text/plain": [
       "111.5"
      ]
     },
     "execution_count": 33,
     "metadata": {},
     "output_type": "execute_result"
    }
   ],
   "source": [
    "lc1_2 = pflacs.Calc(\"Load case 1-2 «add_nums()»\", \n",
    "                    lc1, \n",
    "                    funcname=\"add_nums\", \n",
    "                    argmap={\"return\":\"add_nums_result\"})\n",
    "lc1_2()\n",
    "lc1_2.add_nums_result"
   ]
  },
  {
   "cell_type": "markdown",
   "metadata": {
    "slideshow": {
     "slide_type": "subslide"
    }
   },
   "source": [
    "#### make a Pandas dataframe from the result of the `Calc` node execution"
   ]
  },
  {
   "cell_type": "code",
   "execution_count": 34,
   "metadata": {
    "scrolled": false,
    "slideshow": {
     "slide_type": "-"
    }
   },
   "outputs": [
    {
     "data": {
      "text/html": [
       "<div>\n",
       "<style scoped>\n",
       "    .dataframe tbody tr th:only-of-type {\n",
       "        vertical-align: middle;\n",
       "    }\n",
       "\n",
       "    .dataframe tbody tr th {\n",
       "        vertical-align: top;\n",
       "    }\n",
       "\n",
       "    .dataframe thead th {\n",
       "        text-align: right;\n",
       "    }\n",
       "</style>\n",
       "<table border=\"1\" class=\"dataframe\">\n",
       "  <thead>\n",
       "    <tr style=\"text-align: right;\">\n",
       "      <th></th>\n",
       "      <th>a</th>\n",
       "      <th>b</th>\n",
       "      <th>c</th>\n",
       "      <th>add_nums_result</th>\n",
       "    </tr>\n",
       "  </thead>\n",
       "  <tbody>\n",
       "    <tr>\n",
       "      <td>0</td>\n",
       "      <td>100</td>\n",
       "      <td>5</td>\n",
       "      <td>6.5</td>\n",
       "      <td>111.5</td>\n",
       "    </tr>\n",
       "  </tbody>\n",
       "</table>\n",
       "</div>"
      ],
      "text/plain": [
       "     a  b    c  add_nums_result\n",
       "0  100  5  6.5            111.5"
      ]
     },
     "execution_count": 34,
     "metadata": {},
     "output_type": "execute_result"
    }
   ],
   "source": [
    "lc1_2.to_dataframe()   # dataframe stored in lc1_2._df"
   ]
  },
  {
   "cell_type": "markdown",
   "metadata": {
    "slideshow": {
     "slide_type": "subslide"
    }
   },
   "source": [
    "#### let's make a new loadcase"
   ]
  },
  {
   "cell_type": "code",
   "execution_count": 35,
   "metadata": {
    "slideshow": {
     "slide_type": "-"
    }
   },
   "outputs": [],
   "source": [
    "lc2 = basecase.add_child( lc1.copy() )  # method vntree.Node.copy clones a node or branch"
   ]
  },
  {
   "cell_type": "markdown",
   "metadata": {
    "slideshow": {
     "slide_type": "fragment"
    }
   },
   "source": [
    "#### changing the attribute values in the new nodes"
   ]
  },
  {
   "cell_type": "code",
   "execution_count": 36,
   "metadata": {
    "slideshow": {
     "slide_type": "-"
    }
   },
   "outputs": [],
   "source": [
    "lc2.name = \"Load case 2\"\n",
    "lc2.a = 200\n",
    "lc2_1 = lc2.get_child_by_name(\"Load case 1-1 «sub_nums()»\")  # using vntree.Node.get_child_by_name\n",
    "lc2_1.name = \"Load case 2-1 «sub_nums()»»\"\n",
    "lc2_2 = lc2.get_child_by_name(\"Load case 1-2 «add_nums()»\")\n",
    "lc2_2.name = \"Load case 2-2 «add_nums()»\""
   ]
  },
  {
   "cell_type": "markdown",
   "metadata": {
    "slideshow": {
     "slide_type": "subslide"
    }
   },
   "source": [
    "#### Let's plugin another function"
   ]
  },
  {
   "cell_type": "code",
   "execution_count": 37,
   "metadata": {
    "slideshow": {
     "slide_type": "-"
    }
   },
   "outputs": [
    {
     "data": {
      "text/plain": [
       "True"
      ]
     },
     "execution_count": 37,
     "metadata": {},
     "output_type": "execute_result"
    }
   ],
   "source": [
    "def multipily_xyz(k:\"a\", l:\"b\", m:\"c\" = 1) -> \"mult_nums_result\":\n",
    "    \"\"\"Function multiplies 2 or 3 numbers, and returns the product.\"\"\"\n",
    "    return k * l * m\n",
    "\n",
    "basecase.plugin_func(multipily_xyz, newname=\"mult_nums\")"
   ]
  },
  {
   "cell_type": "markdown",
   "metadata": {
    "slideshow": {
     "slide_type": "fragment"
    }
   },
   "source": [
    "Using function annotations instead of `pflacs.Premise.plugin_func` argument `argmap` to re-map argument names and return attribute\n",
    "\n",
    "\"Python does not attach any particular meaning or significance to annotations\"\n",
    "\n",
    "\"annotation consumers can do anything they want with a function's annotations\"\n",
    "\n",
    "[PEP 3107](https://www.python.org/dev/peps/pep-3107/#id29)"
   ]
  },
  {
   "cell_type": "markdown",
   "metadata": {
    "slideshow": {
     "slide_type": "subslide"
    }
   },
   "source": [
    "let's create another load case with `pflacs.Calc`"
   ]
  },
  {
   "cell_type": "code",
   "execution_count": 38,
   "metadata": {
    "scrolled": true,
    "slideshow": {
     "slide_type": "-"
    }
   },
   "outputs": [
    {
     "data": {
      "text/html": [
       "<div>\n",
       "<style scoped>\n",
       "    .dataframe tbody tr th:only-of-type {\n",
       "        vertical-align: middle;\n",
       "    }\n",
       "\n",
       "    .dataframe tbody tr th {\n",
       "        vertical-align: top;\n",
       "    }\n",
       "\n",
       "    .dataframe thead th {\n",
       "        text-align: right;\n",
       "    }\n",
       "</style>\n",
       "<table border=\"1\" class=\"dataframe\">\n",
       "  <thead>\n",
       "    <tr style=\"text-align: right;\">\n",
       "      <th></th>\n",
       "      <th>a</th>\n",
       "      <th>b</th>\n",
       "      <th>c</th>\n",
       "      <th>mult_nums_result</th>\n",
       "    </tr>\n",
       "  </thead>\n",
       "  <tbody>\n",
       "    <tr>\n",
       "      <td>0</td>\n",
       "      <td>10</td>\n",
       "      <td>0.0</td>\n",
       "      <td>6.5</td>\n",
       "      <td>0.0</td>\n",
       "    </tr>\n",
       "    <tr>\n",
       "      <td>1</td>\n",
       "      <td>10</td>\n",
       "      <td>2.5</td>\n",
       "      <td>6.5</td>\n",
       "      <td>162.5</td>\n",
       "    </tr>\n",
       "    <tr>\n",
       "      <td>2</td>\n",
       "      <td>10</td>\n",
       "      <td>5.0</td>\n",
       "      <td>6.5</td>\n",
       "      <td>325.0</td>\n",
       "    </tr>\n",
       "    <tr>\n",
       "      <td>3</td>\n",
       "      <td>10</td>\n",
       "      <td>7.5</td>\n",
       "      <td>6.5</td>\n",
       "      <td>487.5</td>\n",
       "    </tr>\n",
       "    <tr>\n",
       "      <td>4</td>\n",
       "      <td>10</td>\n",
       "      <td>10.0</td>\n",
       "      <td>6.5</td>\n",
       "      <td>650.0</td>\n",
       "    </tr>\n",
       "  </tbody>\n",
       "</table>\n",
       "</div>"
      ],
      "text/plain": [
       "    a     b    c  mult_nums_result\n",
       "0  10   0.0  6.5               0.0\n",
       "1  10   2.5  6.5             162.5\n",
       "2  10   5.0  6.5             325.0\n",
       "3  10   7.5  6.5             487.5\n",
       "4  10  10.0  6.5             650.0"
      ]
     },
     "execution_count": 38,
     "metadata": {},
     "output_type": "execute_result"
    }
   ],
   "source": [
    "lc3 = pflacs.Calc(\"Load case 3 «mult_nums»\", basecase, funcname=\"mult_nums\")\n",
    "import numpy\n",
    "lc3.b = numpy.linspace(0,10,5)\n",
    "lc3()\n",
    "lc3.to_dataframe()"
   ]
  },
  {
   "cell_type": "markdown",
   "metadata": {
    "slideshow": {
     "slide_type": "subslide"
    }
   },
   "source": [
    "#### Let’s take a look at the tree structure of the study we have built:"
   ]
  },
  {
   "cell_type": "code",
   "execution_count": 39,
   "metadata": {
    "scrolled": true,
    "slideshow": {
     "slide_type": "-"
    }
   },
   "outputs": [
    {
     "name": "stdout",
     "output_type": "stream",
     "text": [
      "| Base case\n",
      "+--| Load case 1\n",
      ".  +--| Load case 1-1 «sub_nums()»\n",
      ".  .  | Load case 1-2 «add_nums()»\n",
      ".  | Load case 2\n",
      ".  +--| Load case 2-1 «sub_nums()»»\n",
      ".  .  | Load case 2-2 «add_nums()»\n",
      ".  | Load case 3 «mult_nums»\n",
      "\n"
     ]
    }
   ],
   "source": [
    "print(basecase.to_texttree())"
   ]
  },
  {
   "cell_type": "markdown",
   "metadata": {
    "slideshow": {
     "slide_type": "subslide"
    }
   },
   "source": [
    "Each `vntree.Node` instance is a generator, so the tree can be traversed simply by interating over the root node. \n",
    "To re-execute the Calc nodes:"
   ]
  },
  {
   "cell_type": "code",
   "execution_count": 40,
   "metadata": {
    "scrolled": true,
    "slideshow": {
     "slide_type": "-"
    }
   },
   "outputs": [
    {
     "name": "stdout",
     "output_type": "stream",
     "text": [
      "Load case 1-1 «sub_nums()» calculated 88.5\n",
      "Load case 1-2 «add_nums()» calculated 111.5\n",
      "Load case 2-1 «sub_nums()»» calculated 188.5\n",
      "Load case 2-2 «add_nums()» calculated 211.5\n",
      "Load case 3 «mult_nums» calculated [  0.  162.5 325.  487.5 650. ]\n"
     ]
    }
   ],
   "source": [
    "for node in basecase:\n",
    "    if type(node) == pflacs.Calc:\n",
    "        result = node()\n",
    "        print(f\"{node.name} calculated {result}\")"
   ]
  },
  {
   "cell_type": "markdown",
   "metadata": {
    "slideshow": {
     "slide_type": "subslide"
    }
   },
   "source": [
    "Now that our study has been re-calculated, we will save it as `Pickle` file:"
   ]
  },
  {
   "cell_type": "code",
   "execution_count": 41,
   "metadata": {
    "slideshow": {
     "slide_type": "-"
    }
   },
   "outputs": [
    {
     "data": {
      "text/plain": [
       "True"
      ]
     },
     "execution_count": 41,
     "metadata": {},
     "output_type": "execute_result"
    }
   ],
   "source": [
    "basecase.savefile(\"basic_usage_example.pflacs\")"
   ]
  },
  {
   "cell_type": "markdown",
   "metadata": {
    "slideshow": {
     "slide_type": "subslide"
    }
   },
   "source": [
    "To re-open the study, we would use the class method `pflacs.Premise.openfile` that is inherited from `vntree.Node` "
   ]
  },
  {
   "cell_type": "code",
   "execution_count": 42,
   "metadata": {
    "scrolled": true,
    "slideshow": {
     "slide_type": "-"
    }
   },
   "outputs": [
    {
     "name": "stdout",
     "output_type": "stream",
     "text": [
      "| Base case\n",
      "+--| Load case 1\n",
      ".  +--| Load case 1-1 «sub_nums()»\n",
      ".  .  | Load case 1-2 «add_nums()»\n",
      ".  | Load case 2\n",
      ".  +--| Load case 2-1 «sub_nums()»»\n",
      ".  .  | Load case 2-2 «add_nums()»\n",
      ".  | Load case 3 «mult_nums»\n",
      "\n"
     ]
    }
   ],
   "source": [
    "new_study = pflacs.Premise.openfile(\"basic_usage_example.pflacs\")\n",
    "print(new_study.to_texttree())"
   ]
  },
  {
   "cell_type": "markdown",
   "metadata": {
    "slideshow": {
     "slide_type": "subslide"
    }
   },
   "source": [
    "#### For large projects, saving results in a `Pickle` file could be inconvenient, so the results from `pflacs.Calc` nodes can be saved in a `HDF5` file:"
   ]
  },
  {
   "cell_type": "code",
   "execution_count": 43,
   "metadata": {
    "slideshow": {
     "slide_type": "-"
    }
   },
   "outputs": [],
   "source": [
    "for node in basecase:\n",
    "    if type(node) == pflacs.Calc:\n",
    "        node.to_hdf5()"
   ]
  },
  {
   "cell_type": "markdown",
   "metadata": {
    "slideshow": {
     "slide_type": "subslide"
    }
   },
   "source": [
    "![basic_usage_example_HDFView](img/basic_usage_example_HDFView.jpg)"
   ]
  },
  {
   "cell_type": "markdown",
   "metadata": {
    "slideshow": {
     "slide_type": "slide"
    }
   },
   "source": [
    "# the end...\n",
    "\n",
    "### thanks very much"
   ]
  }
 ],
 "metadata": {
  "celltoolbar": "Slideshow",
  "kernelspec": {
   "display_name": "Python 3",
   "language": "python",
   "name": "python3"
  },
  "language_info": {
   "codemirror_mode": {
    "name": "ipython",
    "version": 3
   },
   "file_extension": ".py",
   "mimetype": "text/x-python",
   "name": "python",
   "nbconvert_exporter": "python",
   "pygments_lexer": "ipython3",
   "version": "3.7.3"
  }
 },
 "nbformat": 4,
 "nbformat_minor": 2
}
