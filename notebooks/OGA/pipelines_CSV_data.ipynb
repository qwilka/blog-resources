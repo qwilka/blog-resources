{
 "cells": [
  {
   "cell_type": "markdown",
   "metadata": {},
   "source": [
    "https://data-ogauthority.opendata.arcgis.com/search?tags=Zip  \n",
    "https://data-ogauthority.opendata.arcgis.com/datasets/oga-offshore-zipped-shapefiles-wgs84  \n",
    "https://dataogauthority.blob.core.windows.net/external/OpenDataZips/OGA_OFF_WGS84.zip  \n",
    "\n",
    "\n",
    "#### map tiles\n",
    "\n",
    "https://en.wikipedia.org/wiki/Vector_tiles  \n",
    "https://openmaptiles.com/downloads/planet/  "
   ]
  },
  {
   "cell_type": "code",
   "execution_count": 35,
   "metadata": {},
   "outputs": [],
   "source": [
    "\n",
    "import geopandas\n",
    "import ipyleaflet\n",
    "import json\n",
    "import numpy as np\n",
    "import pandas as pd\n",
    "\n",
    "from dateutil import parser as duparser"
   ]
  },
  {
   "cell_type": "code",
   "execution_count": 2,
   "metadata": {},
   "outputs": [],
   "source": [
    "oga_pl = pd.read_csv(\"DealPipelinesKis.csv\")"
   ]
  },
  {
   "cell_type": "code",
   "execution_count": 3,
   "metadata": {},
   "outputs": [],
   "source": [
    "pldf = geopandas.read_file(\"OGA_OFF_WGS84/OGA_Pipelines_WGS84.shp\")"
   ]
  },
  {
   "cell_type": "code",
   "execution_count": 4,
   "metadata": {
    "scrolled": false
   },
   "outputs": [
    {
     "data": {
      "text/html": [
       "<div>\n",
       "<style scoped>\n",
       "    .dataframe tbody tr th:only-of-type {\n",
       "        vertical-align: middle;\n",
       "    }\n",
       "\n",
       "    .dataframe tbody tr th {\n",
       "        vertical-align: top;\n",
       "    }\n",
       "\n",
       "    .dataframe thead th {\n",
       "        text-align: right;\n",
       "    }\n",
       "</style>\n",
       "<table border=\"1\" class=\"dataframe\">\n",
       "  <thead>\n",
       "    <tr style=\"text-align: right;\">\n",
       "      <th></th>\n",
       "      <th>OBJECTID</th>\n",
       "      <th>LICGEOE_ID</th>\n",
       "      <th>BLOCK</th>\n",
       "      <th>REASON</th>\n",
       "      <th>MOD_NOTE</th>\n",
       "      <th>NOTE</th>\n",
       "      <th>Shape_STAr</th>\n",
       "      <th>Shape_STLe</th>\n",
       "      <th>ID</th>\n",
       "      <th>NAME</th>\n",
       "      <th>...</th>\n",
       "      <th>CURR_LIC_6</th>\n",
       "      <th>OGA_COP</th>\n",
       "      <th>PIPE_DTINO</th>\n",
       "      <th>PIPE_NAME</th>\n",
       "      <th>DIAMETER</th>\n",
       "      <th>UNITS</th>\n",
       "      <th>FLUID</th>\n",
       "      <th>EXPOSED</th>\n",
       "      <th>UNTRENCHED</th>\n",
       "      <th>geometry</th>\n",
       "    </tr>\n",
       "  </thead>\n",
       "  <tbody>\n",
       "    <tr>\n",
       "      <th>0</th>\n",
       "      <td>1</td>\n",
       "      <td>None</td>\n",
       "      <td>None</td>\n",
       "      <td>None</td>\n",
       "      <td>None</td>\n",
       "      <td>None</td>\n",
       "      <td>None</td>\n",
       "      <td>15514.313888</td>\n",
       "      <td>500003635</td>\n",
       "      <td>None</td>\n",
       "      <td>...</td>\n",
       "      <td>None</td>\n",
       "      <td>None</td>\n",
       "      <td>None</td>\n",
       "      <td>CLIPPER PM TO BARQUE PL CABLE</td>\n",
       "      <td>2.0</td>\n",
       "      <td>inch</td>\n",
       "      <td>None</td>\n",
       "      <td>None</td>\n",
       "      <td>None</td>\n",
       "      <td>LINESTRING (1.73245 53.45873, 1.73342 53.45938...</td>\n",
       "    </tr>\n",
       "    <tr>\n",
       "      <th>1</th>\n",
       "      <td>2</td>\n",
       "      <td>None</td>\n",
       "      <td>None</td>\n",
       "      <td>None</td>\n",
       "      <td>None</td>\n",
       "      <td>None</td>\n",
       "      <td>None</td>\n",
       "      <td>2916.737757</td>\n",
       "      <td>500003636</td>\n",
       "      <td>None</td>\n",
       "      <td>...</td>\n",
       "      <td>None</td>\n",
       "      <td>None</td>\n",
       "      <td>None</td>\n",
       "      <td>LEMAN BP TO LEMAN E</td>\n",
       "      <td>1.0</td>\n",
       "      <td>inch</td>\n",
       "      <td>None</td>\n",
       "      <td>None</td>\n",
       "      <td>None</td>\n",
       "      <td>LINESTRING (2.18466 53.07610, 2.18408 53.07649...</td>\n",
       "    </tr>\n",
       "    <tr>\n",
       "      <th>2</th>\n",
       "      <td>3</td>\n",
       "      <td>None</td>\n",
       "      <td>None</td>\n",
       "      <td>None</td>\n",
       "      <td>None</td>\n",
       "      <td>None</td>\n",
       "      <td>None</td>\n",
       "      <td>47773.373769</td>\n",
       "      <td>500003637</td>\n",
       "      <td>None</td>\n",
       "      <td>...</td>\n",
       "      <td>None</td>\n",
       "      <td>None</td>\n",
       "      <td>PL934</td>\n",
       "      <td>NELSON TO FULMAR RECEIVER TEE</td>\n",
       "      <td>10.0</td>\n",
       "      <td>inch</td>\n",
       "      <td>GAS</td>\n",
       "      <td>None</td>\n",
       "      <td>None</td>\n",
       "      <td>LINESTRING (1.14443 57.66231, 1.14477 57.66234...</td>\n",
       "    </tr>\n",
       "    <tr>\n",
       "      <th>3</th>\n",
       "      <td>4</td>\n",
       "      <td>None</td>\n",
       "      <td>None</td>\n",
       "      <td>None</td>\n",
       "      <td>None</td>\n",
       "      <td>None</td>\n",
       "      <td>None</td>\n",
       "      <td>32025.592920</td>\n",
       "      <td>500003780</td>\n",
       "      <td>None</td>\n",
       "      <td>...</td>\n",
       "      <td>None</td>\n",
       "      <td>None</td>\n",
       "      <td>PL1030</td>\n",
       "      <td>DD-POA GAS EXPORT</td>\n",
       "      <td>20.0</td>\n",
       "      <td>inch</td>\n",
       "      <td>GAS</td>\n",
       "      <td>Y</td>\n",
       "      <td>None</td>\n",
       "      <td>LINESTRING (-3.34012 53.35390, -3.38517 53.379...</td>\n",
       "    </tr>\n",
       "    <tr>\n",
       "      <th>4</th>\n",
       "      <td>5</td>\n",
       "      <td>None</td>\n",
       "      <td>None</td>\n",
       "      <td>None</td>\n",
       "      <td>None</td>\n",
       "      <td>None</td>\n",
       "      <td>None</td>\n",
       "      <td>33921.405183</td>\n",
       "      <td>500003781</td>\n",
       "      <td>None</td>\n",
       "      <td>...</td>\n",
       "      <td>None</td>\n",
       "      <td>None</td>\n",
       "      <td>PL931</td>\n",
       "      <td>ORWELL TO THAMES RA</td>\n",
       "      <td>16.0</td>\n",
       "      <td>inch</td>\n",
       "      <td>GAS</td>\n",
       "      <td>None</td>\n",
       "      <td>None</td>\n",
       "      <td>LINESTRING (2.54646 53.08393, 2.56516 53.08413...</td>\n",
       "    </tr>\n",
       "  </tbody>\n",
       "</table>\n",
       "<p>5 rows × 75 columns</p>\n",
       "</div>"
      ],
      "text/plain": [
       "   OBJECTID LICGEOE_ID BLOCK REASON MOD_NOTE  NOTE Shape_STAr    Shape_STLe  \\\n",
       "0         1       None  None   None     None  None       None  15514.313888   \n",
       "1         2       None  None   None     None  None       None   2916.737757   \n",
       "2         3       None  None   None     None  None       None  47773.373769   \n",
       "3         4       None  None   None     None  None       None  32025.592920   \n",
       "4         5       None  None   None     None  None       None  33921.405183   \n",
       "\n",
       "          ID  NAME  ... CURR_LIC_6 OGA_COP PIPE_DTINO  \\\n",
       "0  500003635  None  ...       None    None       None   \n",
       "1  500003636  None  ...       None    None       None   \n",
       "2  500003637  None  ...       None    None      PL934   \n",
       "3  500003780  None  ...       None    None     PL1030   \n",
       "4  500003781  None  ...       None    None      PL931   \n",
       "\n",
       "                       PIPE_NAME DIAMETER UNITS FLUID EXPOSED UNTRENCHED  \\\n",
       "0  CLIPPER PM TO BARQUE PL CABLE      2.0  inch  None    None       None   \n",
       "1            LEMAN BP TO LEMAN E      1.0  inch  None    None       None   \n",
       "2  NELSON TO FULMAR RECEIVER TEE     10.0  inch   GAS    None       None   \n",
       "3              DD-POA GAS EXPORT     20.0  inch   GAS       Y       None   \n",
       "4            ORWELL TO THAMES RA     16.0  inch   GAS    None       None   \n",
       "\n",
       "                                            geometry  \n",
       "0  LINESTRING (1.73245 53.45873, 1.73342 53.45938...  \n",
       "1  LINESTRING (2.18466 53.07610, 2.18408 53.07649...  \n",
       "2  LINESTRING (1.14443 57.66231, 1.14477 57.66234...  \n",
       "3  LINESTRING (-3.34012 53.35390, -3.38517 53.379...  \n",
       "4  LINESTRING (2.54646 53.08393, 2.56516 53.08413...  \n",
       "\n",
       "[5 rows x 75 columns]"
      ]
     },
     "execution_count": 4,
     "metadata": {},
     "output_type": "execute_result"
    }
   ],
   "source": [
    "pldf.head()"
   ]
  },
  {
   "cell_type": "code",
   "execution_count": 5,
   "metadata": {
    "scrolled": true
   },
   "outputs": [
    {
     "data": {
      "text/html": [
       "<div>\n",
       "<style scoped>\n",
       "    .dataframe tbody tr th:only-of-type {\n",
       "        vertical-align: middle;\n",
       "    }\n",
       "\n",
       "    .dataframe tbody tr th {\n",
       "        vertical-align: top;\n",
       "    }\n",
       "\n",
       "    .dataframe thead th {\n",
       "        text-align: right;\n",
       "    }\n",
       "</style>\n",
       "<table border=\"1\" class=\"dataframe\">\n",
       "  <thead>\n",
       "    <tr style=\"text-align: right;\">\n",
       "      <th></th>\n",
       "      <th>OBJECTID</th>\n",
       "      <th>LICGEOE_ID</th>\n",
       "      <th>BLOCK</th>\n",
       "      <th>REASON</th>\n",
       "      <th>MOD_NOTE</th>\n",
       "      <th>NOTE</th>\n",
       "      <th>Shape_STAr</th>\n",
       "      <th>Shape_STLe</th>\n",
       "      <th>ID</th>\n",
       "      <th>NAME</th>\n",
       "      <th>...</th>\n",
       "      <th>CURR_LIC_6</th>\n",
       "      <th>OGA_COP</th>\n",
       "      <th>PIPE_DTINO</th>\n",
       "      <th>PIPE_NAME</th>\n",
       "      <th>DIAMETER</th>\n",
       "      <th>UNITS</th>\n",
       "      <th>FLUID</th>\n",
       "      <th>EXPOSED</th>\n",
       "      <th>UNTRENCHED</th>\n",
       "      <th>geometry</th>\n",
       "    </tr>\n",
       "  </thead>\n",
       "  <tbody>\n",
       "    <tr>\n",
       "      <th>3430</th>\n",
       "      <td>3431</td>\n",
       "      <td>None</td>\n",
       "      <td>None</td>\n",
       "      <td>None</td>\n",
       "      <td>None</td>\n",
       "      <td>None</td>\n",
       "      <td>None</td>\n",
       "      <td>105206.633615</td>\n",
       "      <td>500005907</td>\n",
       "      <td>None</td>\n",
       "      <td>...</td>\n",
       "      <td>None</td>\n",
       "      <td>None</td>\n",
       "      <td>PL1844</td>\n",
       "      <td>CLAIR TO SULLOM VOE</td>\n",
       "      <td>22.0</td>\n",
       "      <td>inch</td>\n",
       "      <td>OIL</td>\n",
       "      <td>None</td>\n",
       "      <td>None</td>\n",
       "      <td>LINESTRING (-2.54273 60.69127, -2.37246 60.699...</td>\n",
       "    </tr>\n",
       "  </tbody>\n",
       "</table>\n",
       "<p>1 rows × 75 columns</p>\n",
       "</div>"
      ],
      "text/plain": [
       "      OBJECTID LICGEOE_ID BLOCK REASON MOD_NOTE  NOTE Shape_STAr  \\\n",
       "3430      3431       None  None   None     None  None       None   \n",
       "\n",
       "         Shape_STLe         ID  NAME  ... CURR_LIC_6 OGA_COP PIPE_DTINO  \\\n",
       "3430  105206.633615  500005907  None  ...       None    None     PL1844   \n",
       "\n",
       "                PIPE_NAME DIAMETER UNITS FLUID EXPOSED UNTRENCHED  \\\n",
       "3430  CLAIR TO SULLOM VOE     22.0  inch   OIL    None       None   \n",
       "\n",
       "                                               geometry  \n",
       "3430  LINESTRING (-2.54273 60.69127, -2.37246 60.699...  \n",
       "\n",
       "[1 rows x 75 columns]"
      ]
     },
     "execution_count": 5,
     "metadata": {},
     "output_type": "execute_result"
    }
   ],
   "source": [
    "PL1844 = pldf.loc[pldf['PIPE_DTINO'] == \"PL1844\"]\n",
    "PL1844"
   ]
  },
  {
   "cell_type": "code",
   "execution_count": null,
   "metadata": {},
   "outputs": [],
   "source": [
    "#countries_gdf.to_file(\"countries.geojson\", driver='GeoJSON')\n",
    "PL1844[\"geometry\"].to_file(\"PL1844.geojson\", driver='GeoJSON')"
   ]
  },
  {
   "cell_type": "code",
   "execution_count": 40,
   "metadata": {},
   "outputs": [],
   "source": [
    "PL1844_json = pldf.to_json() #PL1844.to_json()\n",
    "data = json.loads( PL1844_json )\n",
    "#dd"
   ]
  },
  {
   "cell_type": "code",
   "execution_count": null,
   "metadata": {},
   "outputs": [],
   "source": []
  },
  {
   "cell_type": "code",
   "execution_count": 41,
   "metadata": {
    "scrolled": true
   },
   "outputs": [
    {
     "data": {
      "text/plain": [
       "{'DESC_': 'CULZEAN FSO (AILSA) - ANCHOR LINE 3',\n",
       " 'DIAMETER': 0.0,\n",
       " 'ID': 510001771,\n",
       " 'INS_DATE': '20170421',\n",
       " 'OBJECTID': 3476,\n",
       " 'OPERATOR': 'TOTAL',\n",
       " 'PIPE_NAME': 'CULZEAN FSO (AILSA) - ANCHOR LINE 3',\n",
       " 'STATUS': 'ACTIVE',\n",
       " 'Shape_STLe': 172.03062283728121,\n",
       " 'UPD_DATE': '20190502',\n",
       " 'PIPELINE_NAME': 'CULZEAN FSO (AILSA) - ANCHOR LINE 3',\n",
       " 'INST_TYPE': 'ANCHOR CABLE',\n",
       " 'DESCRIPTION': 'CULZEAN FSO (AILSA) - ANCHOR LINE 3',\n",
       " 'COMMENTS': 'Partially installed on seabed but FSO not yet on locationPartially installed on seabed but FSO not yet on locationDue to be installed later in 2017',\n",
       " 'DATA_SOURCE': 'MAERSK',\n",
       " 'KP_ORIGIN_CRS': 23031.0,\n",
       " 'KP_ORIGIN_CRS_DESC': 'ED_1950_UTM_Zone_31N',\n",
       " 'KP_ORIGIN_DESC': 'Culzean FSO Turret Centre',\n",
       " 'KP_ORIGIN_X_LONG': 437309.2,\n",
       " 'KP_ORIGIN_Y_LAT': 6339837.5,\n",
       " 'NAMING_COMPANY': 'MAERSK',\n",
       " 'VERIFIED': 'Y',\n",
       " 'QC_FLAG': 'Y',\n",
       " 'QC_ISSUE': 35.0,\n",
       " 'QC_COMMENTS': 'UPDATED V38 - TRANS V37 -UPDATED V35 - UPDATED V35 - ADDED V34',\n",
       " 'DATE_ENTERED': '21-Apr-2017',\n",
       " 'USER_ENTERED': 'DEAL_KIS',\n",
       " 'DATE_UPDATED': '02-May-2019',\n",
       " 'USER_UPDATED': 'SIS_ADMIN',\n",
       " 'REASON_UPDATED': 'V38 FSIP submission - TFR Maersk-Total V37-',\n",
       " 'EntityKey': 510001771,\n",
       " 'PIPELINEID': 510001771,\n",
       " 'PIPELINE_STDNAME': 'Culzean FSO (Ailsa) - Anchor Line 3'}"
      ]
     },
     "execution_count": 41,
     "metadata": {},
     "output_type": "execute_result"
    }
   ],
   "source": [
    "# remove empty properties data\n",
    "for _f in data['features']:\n",
    "    _meta = {k:v for k,v in _f['properties'].items() if v is not None} #_f['properties'].copy()\n",
    "    _id = _f['properties']['ID']\n",
    "    _ogapl = oga_pl.loc[oga_pl['PIPELINEID'] == _id]\n",
    "    if not _ogapl.empty:\n",
    "        dd = _ogapl.iloc[0].to_dict()\n",
    "        dd = {k:v for k,v in dd.items() if pd.notna(v) and str(v).strip() != \"\" }\n",
    "        _meta.update(dd)\n",
    "\n",
    "    new_meta = {}\n",
    "    if 'PIPELINE_NAME' in _meta:\n",
    "        new_meta[\"name\"] = _meta['PIPELINE_NAME']\n",
    "    elif 'PIPE_NAME' in _meta:\n",
    "        new_meta[\"name\"] = _meta['PIPE_NAME']\n",
    "    elif 'PIPELINE_STDNAME' in _meta:\n",
    "        new_meta[\"name\"] = _meta['PIPELINE_STDNAME']\n",
    "        \n",
    "    if 'OPERATOR' in _meta:\n",
    "        new_meta[\"operator\"] = _meta['OPERATOR']\n",
    "    elif 'PIPE_NAME' in _meta:\n",
    "        new_meta[\"operator\"] = _meta['NAMING_COMPANY']  \n",
    "\n",
    "    if 'PIPELINE_DTINO' in _meta:\n",
    "        new_meta[\"DTINO\"] = _meta['PIPELINE_DTINO']\n",
    "    elif 'PIPE_DTINO' in _meta:\n",
    "        new_meta[\"DTINO\"] = _meta['PIPE_DTINO']\n",
    "\n",
    "    if 'DESCRIPTION' in _meta:\n",
    "        new_meta[\"description\"] = _meta['DESCRIPTION']\n",
    "    elif 'DESC_' in _meta:\n",
    "        new_meta[\"description\"] = _meta['DESC_']\n",
    "\n",
    "    if 'ID' in _meta:\n",
    "        new_meta[\"OGA_db_id\"] = _meta['ID']\n",
    "    elif 'PIPELINEID' in _meta:\n",
    "        new_meta[\"OGA_db_id\"] = _meta['PIPELINEID']\n",
    "    elif 'EntityKey' in _meta:\n",
    "        new_meta[\"OGA_db_id\"] = _meta['EntityKey']\n",
    "\n",
    "    if 'START_DATE' in _meta:\n",
    "        new_meta[\"startup_date\"] = duparser.parse(_meta['START_DATE']).date().isoformat()\n",
    "\n",
    "    if 'PIPELINE_LENGTH_M' in _meta:\n",
    "        new_meta[\"length\"] = _meta['PIPELINE_LENGTH_M']\n",
    "\n",
    "    if 'FLUID' in _meta:\n",
    "        new_meta[\"content\"] = _meta['FLUID']\n",
    "    elif 'FLUID_CONVEYED' in _meta:\n",
    "        new_meta[\"content\"] = _meta['FLUID_CONVEYED']    \n",
    "\n",
    "    if 'DIAMETER' in _meta:\n",
    "        new_meta[\"D_nom\"] = _meta['DIAMETER']\n",
    "        new_meta[\"Do\"] = _meta['DIAMETER']\n",
    "        if ('UNITS' in _meta and _meta['UNITS'].lower()=='inch' or\n",
    "           'DIAMETER_UNITS' in _meta and _meta['DIAMETER_UNITS'].lower()=='inch'):\n",
    "            new_meta[\"Do\"] = _meta['DIAMETER']*0.0254\n",
    "\n",
    "    if 'STATUS' in _meta:\n",
    "        new_meta[\"status\"] = _meta['STATUS']\n",
    "\n",
    "    if 'COMMENTS' in _meta:\n",
    "        new_meta[\"comments\"] = _meta['COMMENTS']        \n",
    "\n",
    "    if 'INST_TYPE' in _meta:\n",
    "        new_meta[\"INST_TYPE\"] = _meta['INST_TYPE']         \n",
    "\n",
    "    if 'INSULATION_COATING_TYPE' in _meta:\n",
    "        new_meta[\"INSULATION_COATING_TYPE\"] = _meta['INSULATION_COATING_TYPE']           \n",
    "\n",
    "    if 'INTERNAL_DIAMETER_MM' in _meta:\n",
    "        new_meta[\"Di\"] = _meta['INTERNAL_DIAMETER_MM'] / 1000.0        \n",
    "\n",
    "    if 'WALL_THICKNESS_MM' in _meta:\n",
    "        new_meta[\"WT\"] = _meta['WALL_THICKNESS_MM'] / 1000.0           \n",
    "        \n",
    "    if 'OPERATING_PRESSURE_MAX_BARG' in _meta:\n",
    "        new_meta[\"OPERATING_PRESSURE_MAX_BARG\"] = _meta['OPERATING_PRESSURE_MAX_BARG']        \n",
    "        \n",
    "    _f['properties'] = new_meta.copy()\n",
    "        #_f['properties'] = {k:v for k,v in _meta.items() if v is not None}\n",
    "_meta #_f['properties']"
   ]
  },
  {
   "cell_type": "code",
   "execution_count": 39,
   "metadata": {},
   "outputs": [
    {
     "data": {
      "text/plain": [
       "{'name': 'CLAIR TO SULLOM VOE',\n",
       " 'operator': 'BP',\n",
       " 'DTINO': 'PL1844',\n",
       " 'description': 'CLAIR TO SULLOM VOE 22IN OIL EXPORT LINE',\n",
       " 'OGA_db_id': 500005907,\n",
       " 'startup_date': '2003-07-01',\n",
       " 'length': 105200.86451752801,\n",
       " 'content': 'OIL',\n",
       " 'D_nom': 22.0,\n",
       " 'Do': 0.5588,\n",
       " 'status': 'ACTIVE'}"
      ]
     },
     "execution_count": 39,
     "metadata": {},
     "output_type": "execute_result"
    }
   ],
   "source": []
  },
  {
   "cell_type": "code",
   "execution_count": 42,
   "metadata": {
    "scrolled": true
   },
   "outputs": [],
   "source": [
    "#pldf.to_file(\"OGA_pipelines.geojson\", driver='GeoJSON')\n",
    "with open(\"OGA_pipelines.geojson\", 'w') as fh:\n",
    "    json.dump(data, fh)"
   ]
  },
  {
   "cell_type": "code",
   "execution_count": 15,
   "metadata": {},
   "outputs": [
    {
     "data": {
      "text/plain": [
       "False"
      ]
     },
     "execution_count": 15,
     "metadata": {},
     "output_type": "execute_result"
    }
   ],
   "source": [
    "_ogapl.empty"
   ]
  },
  {
   "cell_type": "code",
   "execution_count": null,
   "metadata": {},
   "outputs": [],
   "source": [
    "pass"
   ]
  },
  {
   "cell_type": "code",
   "execution_count": 43,
   "metadata": {},
   "outputs": [
    {
     "data": {
      "application/vnd.jupyter.widget-view+json": {
       "model_id": "c71c2f11b71a406cb939a4ea24e56b36",
       "version_major": 2,
       "version_minor": 0
      },
      "text/plain": [
       "Map(center=[59.0, 2.0], controls=(ZoomControl(options=['position', 'zoom_in_text', 'zoom_in_title', 'zoom_out_…"
      ]
     },
     "metadata": {},
     "output_type": "display_data"
    }
   ],
   "source": [
    "lmap = ipyleaflet.Map(\n",
    "    basemap=ipyleaflet.basemaps.Esri.WorldImagery,\n",
    "    center=(59.0, 2.0),\n",
    "    zoom=6\n",
    ")\n",
    "\n",
    "lmap"
   ]
  },
  {
   "cell_type": "code",
   "execution_count": 45,
   "metadata": {},
   "outputs": [],
   "source": [
    "geo_json = ipyleaflet.GeoJSON(data=data, style = {'color': 'red', 'opacity':1, 'weight':1.9, 'fillOpacity':0.1})\n",
    "lmap.add_layer(geo_json)"
   ]
  }
 ],
 "metadata": {
  "kernelspec": {
   "display_name": "Python 3",
   "language": "python",
   "name": "python3"
  },
  "language_info": {
   "codemirror_mode": {
    "name": "ipython",
    "version": 3
   },
   "file_extension": ".py",
   "mimetype": "text/x-python",
   "name": "python",
   "nbconvert_exporter": "python",
   "pygments_lexer": "ipython3",
   "version": "3.7.3"
  }
 },
 "nbformat": 4,
 "nbformat_minor": 2
}
