{
 "cells": [
  {
   "cell_type": "markdown",
   "metadata": {},
   "source": [
    "**Task**:\n",
    "    \n",
    "    Race Bank Export South Cable, burial performance assessment\n",
    "\n",
    "**References**:\n",
    "\n",
    "1. J15-166-BPA-A Revision B\n",
    "1. [Race Bank wind farm](https://en.wikipedia.org/wiki/Race_Bank_wind_farm) \n",
    "1. [Race Bank Export Cable Installed](https://www.4coffshore.com/news/race-bank-export-cable-installed-nid6349.html)  \n",
    "1. [DeepOcean installation 91 Inter Array Cables](https://deepoceangroup.com/installation-and-trenching-of-91-inter-array-cables-at-dong-energys-race-bank-offshore-windfarm-site-successfully-completed/) \n",
    "1. [Offshore Renewable & Cable Awareness project](http://www.kis-orca.eu/sitemap) "
   ]
  },
  {
   "cell_type": "code",
   "execution_count": 1,
   "metadata": {},
   "outputs": [],
   "source": [
    "import os\n",
    "import pandas as pd\n",
    "import numpy as np\n",
    "import matplotlib.pyplot as plt\n",
    "import matplotlib.dates as mdates\n",
    "import seaborn as sns\n",
    "pd.set_option('display.max_rows', 30) \n",
    "import warnings\n",
    "warnings.filterwarnings('ignore')"
   ]
  },
  {
   "cell_type": "markdown",
   "metadata": {},
   "source": [
    "Read data from Excel file into a Pandas dataframe (converting \\$Date and \\$Time into datetime/timestamp objects and using timestamps as the dataframe index), and save the dataframe in HDF5 format for faster access."
   ]
  },
  {
   "cell_type": "code",
   "execution_count": 2,
   "metadata": {},
   "outputs": [
    {
     "ename": "OSError",
     "evalue": "Cannot find data file «Dive 2.xlsx» in directory «/home/develop/engineering/data/cable_trenching»",
     "output_type": "error",
     "traceback": [
      "\u001b[0;31m---------------------------------------------------------------------------\u001b[0m",
      "\u001b[0;31mOSError\u001b[0m                                   Traceback (most recent call last)",
      "\u001b[0;32m<ipython-input-2-ed7db0be2a6a>\u001b[0m in \u001b[0;36m<module>\u001b[0;34m()\u001b[0m\n\u001b[1;32m     11\u001b[0m     \u001b[0mdat\u001b[0m\u001b[0;34m.\u001b[0m\u001b[0mto_hdf\u001b[0m\u001b[0;34m(\u001b[0m\u001b[0mh5file\u001b[0m\u001b[0;34m,\u001b[0m \u001b[0mkey\u001b[0m\u001b[0;34m=\u001b[0m\u001b[0;34m\"/T3200_J15166_002_1\"\u001b[0m\u001b[0;34m,\u001b[0m \u001b[0mformat\u001b[0m\u001b[0;34m=\u001b[0m\u001b[0;34m\"table\"\u001b[0m\u001b[0;34m,\u001b[0m \u001b[0mdata_columns\u001b[0m\u001b[0;34m=\u001b[0m\u001b[0;32mTrue\u001b[0m\u001b[0;34m)\u001b[0m\u001b[0;34m\u001b[0m\u001b[0m\n\u001b[1;32m     12\u001b[0m \u001b[0;32melse\u001b[0m\u001b[0;34m:\u001b[0m\u001b[0;34m\u001b[0m\u001b[0m\n\u001b[0;32m---> 13\u001b[0;31m     \u001b[0;32mraise\u001b[0m \u001b[0mIOError\u001b[0m\u001b[0;34m(\u001b[0m\u001b[0;34m\"Cannot find data file «{}» in directory «{}»\"\u001b[0m\u001b[0;34m.\u001b[0m\u001b[0mformat\u001b[0m\u001b[0;34m(\u001b[0m\u001b[0mxlfile\u001b[0m\u001b[0;34m,\u001b[0m \u001b[0mos\u001b[0m\u001b[0;34m.\u001b[0m\u001b[0mgetcwd\u001b[0m\u001b[0;34m(\u001b[0m\u001b[0;34m)\u001b[0m\u001b[0;34m)\u001b[0m\u001b[0;34m)\u001b[0m\u001b[0;34m\u001b[0m\u001b[0m\n\u001b[0m\u001b[1;32m     14\u001b[0m \u001b[0mdat\u001b[0m\u001b[0;34m.\u001b[0m\u001b[0mindex\u001b[0m\u001b[0;34m.\u001b[0m\u001b[0mnames\u001b[0m \u001b[0;34m=\u001b[0m \u001b[0;34m[\u001b[0m\u001b[0;34m\"datetime\"\u001b[0m\u001b[0;34m]\u001b[0m  \u001b[0;31m# rename the index column ('$Date_$Time' is an inconvenient name)\u001b[0m\u001b[0;34m\u001b[0m\u001b[0m\n\u001b[1;32m     15\u001b[0m \u001b[0mdat\u001b[0m\u001b[0;34m.\u001b[0m\u001b[0mshape\u001b[0m\u001b[0;34m\u001b[0m\u001b[0m\n",
      "\u001b[0;31mOSError\u001b[0m: Cannot find data file «Dive 2.xlsx» in directory «/home/develop/engineering/data/cable_trenching»"
     ]
    }
   ],
   "source": [
    "xlfile = \"Dive 2.xlsx\"    # Excel filename\n",
    "xlsheet = \"T3200-J15166-002-1\"\n",
    "h5file = \"Dive2_T3200-J15166-002-1.hdf5\"\n",
    "if os.path.isfile(h5file):\n",
    "    dat = pd.read_hdf(h5file, key=\"/T3200_J15166_002_1\")\n",
    "elif os.path.isfile(xlfile):\n",
    "    dat = pd.read_excel(xlfile, sheet_name=\"T3200-J15166-002-1\", \n",
    "                        parse_dates=[['$Date', '$Time']], \n",
    "                        dayfirst=True, \n",
    "                        index_col=0)\n",
    "    dat.to_hdf(h5file, key=\"/T3200_J15166_002_1\", format=\"table\", data_columns=True)\n",
    "else:\n",
    "    raise IOError(\"Cannot find data file «{}» in directory «{}»\".format(xlfile, os.getcwd()))\n",
    "dat.index.names = [\"datetime\"]  # rename the index column ('$Date_$Time' is an inconvenient name)\n",
    "dat.shape"
   ]
  },
  {
   "cell_type": "code",
   "execution_count": null,
   "metadata": {},
   "outputs": [],
   "source": [
    "dates = np.unique(dat.index.date) # find unique dates in the data\n",
    "print(\"{} dates in the data: {}\".format(len(dates), list(map(lambda dt: dt.isoformat(), dates))))"
   ]
  },
  {
   "cell_type": "code",
   "execution_count": null,
   "metadata": {},
   "outputs": [],
   "source": [
    "dat.columns.values  #  show the column headers/names"
   ]
  },
  {
   "cell_type": "code",
   "execution_count": null,
   "metadata": {},
   "outputs": [],
   "source": [
    "dat.head() # show the top of the data"
   ]
  },
  {
   "cell_type": "code",
   "execution_count": null,
   "metadata": {},
   "outputs": [],
   "source": [
    "dat.tail()  # show the bottom of the data"
   ]
  },
  {
   "cell_type": "code",
   "execution_count": null,
   "metadata": {},
   "outputs": [],
   "source": [
    "dat.describe() # print summary statistics for each column"
   ]
  },
  {
   "cell_type": "code",
   "execution_count": null,
   "metadata": {},
   "outputs": [],
   "source": [
    "display(dat['2016-11-07'].describe())  # print summary statistics for each day\n",
    "display(dat['2016-11-08'].describe())"
   ]
  },
  {
   "cell_type": "code",
   "execution_count": null,
   "metadata": {},
   "outputs": [],
   "source": [
    "fig, ax = plt.subplots()\n",
    "fig.set_size_inches(16,4)\n",
    "hours = mdates.HourLocator(interval = 1)\n",
    "h_fmt = mdates.DateFormatter('%Y-%m-%d %H:%M:%S')\n",
    "ax.xaxis.set_major_locator(hours)\n",
    "ax.xaxis.set_major_formatter(h_fmt)\n",
    "dat.plot(y=\"NAV_KP_REAL\", ax=ax, x_compat=True)"
   ]
  },
  {
   "cell_type": "code",
   "execution_count": null,
   "metadata": {},
   "outputs": [],
   "source": [
    "fig, ax = plt.subplots()\n",
    "fig.set_size_inches(16,4)\n",
    "hours = mdates.HourLocator(interval = 1)\n",
    "h_fmt = mdates.DateFormatter('%Y-%m-%d %H:%M:%S')\n",
    "ax.xaxis.set_major_locator(hours)\n",
    "ax.xaxis.set_major_formatter(h_fmt)\n",
    "dat.plot(y=\"VEH_NAV_STRING_OUT_BURIAL_DEPTH\", ax=ax, x_compat=True)\n",
    "dat.plot(y=\"VEHICLE_RDF_TOOLDEPTH\", ax=ax, x_compat=True)\n",
    "dat.plot(y=\"VEHICLE_RDF_DEPRESSORDEPTH_M\", ax=ax, x_compat=True)"
   ]
  },
  {
   "cell_type": "code",
   "execution_count": null,
   "metadata": {},
   "outputs": [],
   "source": [
    "fig, ax = plt.subplots()\n",
    "fig.set_size_inches(16,4)\n",
    "dat.plot(y=\"VEH_NAV_HPR_ROLL\", ax=ax)\n",
    "dat.plot(y=\"VEH_NAV_HPR_PITCH\", ax=ax)"
   ]
  },
  {
   "cell_type": "code",
   "execution_count": null,
   "metadata": {},
   "outputs": [],
   "source": [
    "fig, ax = plt.subplots()\n",
    "fig.set_size_inches(16,4)\n",
    "dat.plot(y=\"VEH_CNTRL_PORT_TRACK_SPEED\", ax=ax)\n",
    "dat.plot(y=\"VEH_CNTRL_STBD_TRACK_SPEED\", ax=ax)"
   ]
  },
  {
   "cell_type": "code",
   "execution_count": null,
   "metadata": {},
   "outputs": [],
   "source": [
    "fig, ax = plt.subplots()\n",
    "fig.set_size_inches(16,4)\n",
    "dat.plot(y=\"SC_CUTTER_CYL_PX_VALUE\", ax=ax)"
   ]
  },
  {
   "cell_type": "code",
   "execution_count": null,
   "metadata": {},
   "outputs": [],
   "source": [
    "fig, ax = plt.subplots()\n",
    "fig.set_size_inches(16,4)\n",
    "dat.plot(y=\"VEH_CUTTING_CUTTER_SPEED\", ax=ax)"
   ]
  },
  {
   "cell_type": "code",
   "execution_count": null,
   "metadata": {},
   "outputs": [],
   "source": [
    "fig, ax = plt.subplots()\n",
    "fig.set_size_inches(16,4)\n",
    "dat.plot(y=\"VEH_HPU2_PMP1_SYS_PRESS_V\", ax=ax)\n",
    "dat.plot(y=\"VEH_HPU3_PMP1_SYS_PRESS_V\", ax=ax)\n",
    "dat.plot(y=\"VEH_HPU2_PMP2_SYS_PRESS_V\", ax=ax)\n",
    "dat.plot(y=\"VEH_HPU3_PMP2_SYS_PRESS_V\", ax=ax)"
   ]
  },
  {
   "cell_type": "code",
   "execution_count": null,
   "metadata": {},
   "outputs": [],
   "source": [
    "fig, ax = plt.subplots()\n",
    "fig.set_size_inches(16,4)\n",
    "dat.plot(y=\"VEH_HPU1_PMP2_SYS_PRESS_V\", ax=ax)\n",
    "dat.plot(y=\"VEH_HPU1_PMP3_SYS_PRESS_V\", ax=ax)"
   ]
  },
  {
   "cell_type": "code",
   "execution_count": null,
   "metadata": {},
   "outputs": [],
   "source": [
    "fig, ax = plt.subplots()\n",
    "fig.set_size_inches(16,4)\n",
    "dat.plot(y=\"VEH_LP_WATER_PORT_GALLERY_PX\", ax=ax)"
   ]
  },
  {
   "cell_type": "code",
   "execution_count": null,
   "metadata": {},
   "outputs": [],
   "source": [
    "fig, ax = plt.subplots()\n",
    "fig.set_size_inches(16,4)\n",
    "dat.plot(y=\"RDF_DEPRESSOR_PRESSURE_V\", ax=ax)\n",
    "dat.plot(y=\"RDF_DEPRESSOR_PRESSURE_V.1\", ax=ax, linestyle=':')"
   ]
  },
  {
   "cell_type": "code",
   "execution_count": null,
   "metadata": {},
   "outputs": [],
   "source": [
    "fig, ax = plt.subplots()\n",
    "fig.set_size_inches(16,4)\n",
    "dat.plot(y=\"VEH_RDF_TILTCYLINDERPX_V\", ax=ax)"
   ]
  },
  {
   "cell_type": "code",
   "execution_count": null,
   "metadata": {},
   "outputs": [],
   "source": [
    "corr_matrix = dat.corr(method='pearson')   \n",
    "corr_matrix[corr_matrix.abs()>0.5]"
   ]
  },
  {
   "cell_type": "code",
   "execution_count": null,
   "metadata": {},
   "outputs": [],
   "source": [
    "fig, ax = plt.subplots()\n",
    "fig.set_size_inches(7,6)\n",
    "sns.heatmap(corr_matrix, ax=ax, cmap=plt.cm.RdBu, annot=False,  linewidths=.5)\n",
    "ax.invert_yaxis()"
   ]
  },
  {
   "cell_type": "code",
   "execution_count": null,
   "metadata": {},
   "outputs": [],
   "source": [
    "fig, (ax1, ax2) = plt.subplots(ncols=2, sharey=True)\n",
    "fig.set_size_inches(16,6)  \n",
    "sns.heatmap(dat['2016-11-07'].corr(method='pearson'), ax=ax1, cmap=plt.cm.RdBu, annot=False,  linewidths=.5)\n",
    "sns.heatmap(dat['2016-11-08'].corr(method='pearson'), ax=ax2, cmap=plt.cm.RdBu, annot=False,  linewidths=.5)\n",
    "ax1.invert_yaxis()  # https://stackoverflow.com/questions/28132936/axes-invert-axis-does-not-work-with-sharey-true-for-matplotlib-subplots\n",
    "#ax2.invert_yaxis()"
   ]
  },
  {
   "cell_type": "code",
   "execution_count": null,
   "metadata": {},
   "outputs": [],
   "source": []
  }
 ],
 "metadata": {
  "kernelspec": {
   "display_name": "Python 3",
   "language": "python",
   "name": "python3"
  },
  "language_info": {
   "codemirror_mode": {
    "name": "ipython",
    "version": 3
   },
   "file_extension": ".py",
   "mimetype": "text/x-python",
   "name": "python",
   "nbconvert_exporter": "python",
   "pygments_lexer": "ipython3",
   "version": "3.6.6"
  }
 },
 "nbformat": 4,
 "nbformat_minor": 2
}
